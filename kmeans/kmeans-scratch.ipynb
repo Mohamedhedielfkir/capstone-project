{
 "cells": [
  {
   "cell_type": "code",
   "execution_count": 1,
   "metadata": {},
   "outputs": [],
   "source": [
    "import pandas as pd\n",
    "import numpy as np\n",
    "import matplotlib.pyplot as plt\n",
    "from matplotlib import style"
   ]
  },
  {
   "cell_type": "code",
   "execution_count": 24,
   "metadata": {},
   "outputs": [],
   "source": [
    "trainfile=\"~/train.csv\"\n",
    "test_file='~/test.csv'\n",
    "valid_file='~/val.csv'\n",
    "\n",
    "train_set=pd.read_csv(trainfile,header=None)\n",
    "test_set=pd.read_csv(test_file, header=None)\n",
    "valid_set=pd.read_csv(valid_file, header=None)"
   ]
  },
  {
   "cell_type": "code",
   "execution_count": 25,
   "metadata": {},
   "outputs": [
    {
     "data": {
      "text/html": [
       "<div>\n",
       "<style scoped>\n",
       "    .dataframe tbody tr th:only-of-type {\n",
       "        vertical-align: middle;\n",
       "    }\n",
       "\n",
       "    .dataframe tbody tr th {\n",
       "        vertical-align: top;\n",
       "    }\n",
       "\n",
       "    .dataframe thead th {\n",
       "        text-align: right;\n",
       "    }\n",
       "</style>\n",
       "<table border=\"1\" class=\"dataframe\">\n",
       "  <thead>\n",
       "    <tr style=\"text-align: right;\">\n",
       "      <th></th>\n",
       "      <th>0</th>\n",
       "      <th>1</th>\n",
       "      <th>2</th>\n",
       "      <th>3</th>\n",
       "      <th>4</th>\n",
       "      <th>5</th>\n",
       "      <th>6</th>\n",
       "      <th>7</th>\n",
       "      <th>8</th>\n",
       "      <th>9</th>\n",
       "      <th>10</th>\n",
       "    </tr>\n",
       "  </thead>\n",
       "  <tbody>\n",
       "    <tr>\n",
       "      <td>0</td>\n",
       "      <td>1000025</td>\n",
       "      <td>5</td>\n",
       "      <td>1</td>\n",
       "      <td>1</td>\n",
       "      <td>1</td>\n",
       "      <td>2</td>\n",
       "      <td>1</td>\n",
       "      <td>3</td>\n",
       "      <td>1</td>\n",
       "      <td>1</td>\n",
       "      <td>2</td>\n",
       "    </tr>\n",
       "    <tr>\n",
       "      <td>1</td>\n",
       "      <td>1002945</td>\n",
       "      <td>5</td>\n",
       "      <td>4</td>\n",
       "      <td>4</td>\n",
       "      <td>5</td>\n",
       "      <td>7</td>\n",
       "      <td>10</td>\n",
       "      <td>3</td>\n",
       "      <td>2</td>\n",
       "      <td>1</td>\n",
       "      <td>2</td>\n",
       "    </tr>\n",
       "    <tr>\n",
       "      <td>2</td>\n",
       "      <td>1015425</td>\n",
       "      <td>3</td>\n",
       "      <td>1</td>\n",
       "      <td>1</td>\n",
       "      <td>1</td>\n",
       "      <td>2</td>\n",
       "      <td>2</td>\n",
       "      <td>3</td>\n",
       "      <td>1</td>\n",
       "      <td>1</td>\n",
       "      <td>2</td>\n",
       "    </tr>\n",
       "    <tr>\n",
       "      <td>3</td>\n",
       "      <td>1016277</td>\n",
       "      <td>6</td>\n",
       "      <td>8</td>\n",
       "      <td>8</td>\n",
       "      <td>1</td>\n",
       "      <td>3</td>\n",
       "      <td>4</td>\n",
       "      <td>3</td>\n",
       "      <td>7</td>\n",
       "      <td>1</td>\n",
       "      <td>2</td>\n",
       "    </tr>\n",
       "    <tr>\n",
       "      <td>4</td>\n",
       "      <td>1017023</td>\n",
       "      <td>4</td>\n",
       "      <td>1</td>\n",
       "      <td>1</td>\n",
       "      <td>3</td>\n",
       "      <td>2</td>\n",
       "      <td>1</td>\n",
       "      <td>3</td>\n",
       "      <td>1</td>\n",
       "      <td>1</td>\n",
       "      <td>2</td>\n",
       "    </tr>\n",
       "    <tr>\n",
       "      <td>5</td>\n",
       "      <td>1018099</td>\n",
       "      <td>1</td>\n",
       "      <td>1</td>\n",
       "      <td>1</td>\n",
       "      <td>1</td>\n",
       "      <td>2</td>\n",
       "      <td>10</td>\n",
       "      <td>3</td>\n",
       "      <td>1</td>\n",
       "      <td>1</td>\n",
       "      <td>2</td>\n",
       "    </tr>\n",
       "    <tr>\n",
       "      <td>6</td>\n",
       "      <td>1018561</td>\n",
       "      <td>2</td>\n",
       "      <td>1</td>\n",
       "      <td>2</td>\n",
       "      <td>1</td>\n",
       "      <td>2</td>\n",
       "      <td>1</td>\n",
       "      <td>3</td>\n",
       "      <td>1</td>\n",
       "      <td>1</td>\n",
       "      <td>2</td>\n",
       "    </tr>\n",
       "    <tr>\n",
       "      <td>7</td>\n",
       "      <td>1033078</td>\n",
       "      <td>2</td>\n",
       "      <td>1</td>\n",
       "      <td>1</td>\n",
       "      <td>1</td>\n",
       "      <td>2</td>\n",
       "      <td>1</td>\n",
       "      <td>1</td>\n",
       "      <td>1</td>\n",
       "      <td>5</td>\n",
       "      <td>2</td>\n",
       "    </tr>\n",
       "    <tr>\n",
       "      <td>8</td>\n",
       "      <td>1033078</td>\n",
       "      <td>4</td>\n",
       "      <td>2</td>\n",
       "      <td>1</td>\n",
       "      <td>1</td>\n",
       "      <td>2</td>\n",
       "      <td>1</td>\n",
       "      <td>2</td>\n",
       "      <td>1</td>\n",
       "      <td>1</td>\n",
       "      <td>2</td>\n",
       "    </tr>\n",
       "    <tr>\n",
       "      <td>9</td>\n",
       "      <td>1035283</td>\n",
       "      <td>1</td>\n",
       "      <td>1</td>\n",
       "      <td>1</td>\n",
       "      <td>1</td>\n",
       "      <td>1</td>\n",
       "      <td>1</td>\n",
       "      <td>3</td>\n",
       "      <td>1</td>\n",
       "      <td>1</td>\n",
       "      <td>2</td>\n",
       "    </tr>\n",
       "  </tbody>\n",
       "</table>\n",
       "</div>"
      ],
      "text/plain": [
       "        0   1   2   3   4   5   6   7   8   9   10\n",
       "0  1000025   5   1   1   1   2   1   3   1   1   2\n",
       "1  1002945   5   4   4   5   7  10   3   2   1   2\n",
       "2  1015425   3   1   1   1   2   2   3   1   1   2\n",
       "3  1016277   6   8   8   1   3   4   3   7   1   2\n",
       "4  1017023   4   1   1   3   2   1   3   1   1   2\n",
       "5  1018099   1   1   1   1   2  10   3   1   1   2\n",
       "6  1018561   2   1   2   1   2   1   3   1   1   2\n",
       "7  1033078   2   1   1   1   2   1   1   1   5   2\n",
       "8  1033078   4   2   1   1   2   1   2   1   1   2\n",
       "9  1035283   1   1   1   1   1   1   3   1   1   2"
      ]
     },
     "execution_count": 25,
     "metadata": {},
     "output_type": "execute_result"
    }
   ],
   "source": [
    "train_set.head(10)"
   ]
  },
  {
   "cell_type": "code",
   "execution_count": 26,
   "metadata": {},
   "outputs": [
    {
     "data": {
      "text/html": [
       "<div>\n",
       "<style scoped>\n",
       "    .dataframe tbody tr th:only-of-type {\n",
       "        vertical-align: middle;\n",
       "    }\n",
       "\n",
       "    .dataframe tbody tr th {\n",
       "        vertical-align: top;\n",
       "    }\n",
       "\n",
       "    .dataframe thead th {\n",
       "        text-align: right;\n",
       "    }\n",
       "</style>\n",
       "<table border=\"1\" class=\"dataframe\">\n",
       "  <thead>\n",
       "    <tr style=\"text-align: right;\">\n",
       "      <th></th>\n",
       "      <th>0</th>\n",
       "      <th>1</th>\n",
       "      <th>2</th>\n",
       "      <th>3</th>\n",
       "      <th>4</th>\n",
       "      <th>5</th>\n",
       "      <th>6</th>\n",
       "      <th>7</th>\n",
       "      <th>8</th>\n",
       "      <th>9</th>\n",
       "      <th>10</th>\n",
       "    </tr>\n",
       "  </thead>\n",
       "  <tbody>\n",
       "    <tr>\n",
       "      <td>count</td>\n",
       "      <td>4.770000e+02</td>\n",
       "      <td>477.000000</td>\n",
       "      <td>477.000000</td>\n",
       "      <td>477.000000</td>\n",
       "      <td>477.000000</td>\n",
       "      <td>477.000000</td>\n",
       "      <td>477.000000</td>\n",
       "      <td>477.000000</td>\n",
       "      <td>477.000000</td>\n",
       "      <td>477.000000</td>\n",
       "      <td>477.000000</td>\n",
       "    </tr>\n",
       "    <tr>\n",
       "      <td>mean</td>\n",
       "      <td>1.017602e+06</td>\n",
       "      <td>4.410901</td>\n",
       "      <td>3.029350</td>\n",
       "      <td>3.115304</td>\n",
       "      <td>2.742138</td>\n",
       "      <td>3.297694</td>\n",
       "      <td>3.639413</td>\n",
       "      <td>3.316562</td>\n",
       "      <td>2.897275</td>\n",
       "      <td>1.687631</td>\n",
       "      <td>2.700210</td>\n",
       "    </tr>\n",
       "    <tr>\n",
       "      <td>std</td>\n",
       "      <td>2.853428e+05</td>\n",
       "      <td>2.910956</td>\n",
       "      <td>2.909557</td>\n",
       "      <td>2.861898</td>\n",
       "      <td>2.766578</td>\n",
       "      <td>2.331609</td>\n",
       "      <td>3.659906</td>\n",
       "      <td>2.162126</td>\n",
       "      <td>3.009078</td>\n",
       "      <td>1.833659</td>\n",
       "      <td>0.955007</td>\n",
       "    </tr>\n",
       "    <tr>\n",
       "      <td>min</td>\n",
       "      <td>6.337500e+04</td>\n",
       "      <td>1.000000</td>\n",
       "      <td>1.000000</td>\n",
       "      <td>1.000000</td>\n",
       "      <td>1.000000</td>\n",
       "      <td>1.000000</td>\n",
       "      <td>1.000000</td>\n",
       "      <td>1.000000</td>\n",
       "      <td>1.000000</td>\n",
       "      <td>1.000000</td>\n",
       "      <td>2.000000</td>\n",
       "    </tr>\n",
       "    <tr>\n",
       "      <td>25%</td>\n",
       "      <td>8.464230e+05</td>\n",
       "      <td>2.000000</td>\n",
       "      <td>1.000000</td>\n",
       "      <td>1.000000</td>\n",
       "      <td>1.000000</td>\n",
       "      <td>2.000000</td>\n",
       "      <td>1.000000</td>\n",
       "      <td>2.000000</td>\n",
       "      <td>1.000000</td>\n",
       "      <td>1.000000</td>\n",
       "      <td>2.000000</td>\n",
       "    </tr>\n",
       "    <tr>\n",
       "      <td>50%</td>\n",
       "      <td>1.152331e+06</td>\n",
       "      <td>4.000000</td>\n",
       "      <td>1.000000</td>\n",
       "      <td>1.000000</td>\n",
       "      <td>1.000000</td>\n",
       "      <td>2.000000</td>\n",
       "      <td>1.000000</td>\n",
       "      <td>3.000000</td>\n",
       "      <td>1.000000</td>\n",
       "      <td>1.000000</td>\n",
       "      <td>2.000000</td>\n",
       "    </tr>\n",
       "    <tr>\n",
       "      <td>75%</td>\n",
       "      <td>1.207986e+06</td>\n",
       "      <td>6.000000</td>\n",
       "      <td>4.000000</td>\n",
       "      <td>5.000000</td>\n",
       "      <td>3.000000</td>\n",
       "      <td>4.000000</td>\n",
       "      <td>7.000000</td>\n",
       "      <td>4.000000</td>\n",
       "      <td>4.000000</td>\n",
       "      <td>1.000000</td>\n",
       "      <td>4.000000</td>\n",
       "    </tr>\n",
       "    <tr>\n",
       "      <td>max</td>\n",
       "      <td>1.320304e+06</td>\n",
       "      <td>10.000000</td>\n",
       "      <td>10.000000</td>\n",
       "      <td>10.000000</td>\n",
       "      <td>10.000000</td>\n",
       "      <td>10.000000</td>\n",
       "      <td>10.000000</td>\n",
       "      <td>10.000000</td>\n",
       "      <td>10.000000</td>\n",
       "      <td>10.000000</td>\n",
       "      <td>4.000000</td>\n",
       "    </tr>\n",
       "  </tbody>\n",
       "</table>\n",
       "</div>"
      ],
      "text/plain": [
       "                 0           1           2           3           4   \\\n",
       "count  4.770000e+02  477.000000  477.000000  477.000000  477.000000   \n",
       "mean   1.017602e+06    4.410901    3.029350    3.115304    2.742138   \n",
       "std    2.853428e+05    2.910956    2.909557    2.861898    2.766578   \n",
       "min    6.337500e+04    1.000000    1.000000    1.000000    1.000000   \n",
       "25%    8.464230e+05    2.000000    1.000000    1.000000    1.000000   \n",
       "50%    1.152331e+06    4.000000    1.000000    1.000000    1.000000   \n",
       "75%    1.207986e+06    6.000000    4.000000    5.000000    3.000000   \n",
       "max    1.320304e+06   10.000000   10.000000   10.000000   10.000000   \n",
       "\n",
       "               5           6           7           8           9           10  \n",
       "count  477.000000  477.000000  477.000000  477.000000  477.000000  477.000000  \n",
       "mean     3.297694    3.639413    3.316562    2.897275    1.687631    2.700210  \n",
       "std      2.331609    3.659906    2.162126    3.009078    1.833659    0.955007  \n",
       "min      1.000000    1.000000    1.000000    1.000000    1.000000    2.000000  \n",
       "25%      2.000000    1.000000    2.000000    1.000000    1.000000    2.000000  \n",
       "50%      2.000000    1.000000    3.000000    1.000000    1.000000    2.000000  \n",
       "75%      4.000000    7.000000    4.000000    4.000000    1.000000    4.000000  \n",
       "max     10.000000   10.000000   10.000000   10.000000   10.000000    4.000000  "
      ]
     },
     "execution_count": 26,
     "metadata": {},
     "output_type": "execute_result"
    }
   ],
   "source": [
    "train_set.describe()"
   ]
  },
  {
   "cell_type": "code",
   "execution_count": 27,
   "metadata": {},
   "outputs": [],
   "source": [
    "# lets take clump_thick and uniform_cell_size \n",
    "X=train_set.iloc[:,[2,3]].values\n",
    "#X"
   ]
  },
  {
   "cell_type": "code",
   "execution_count": 28,
   "metadata": {},
   "outputs": [
    {
     "data": {
      "text/plain": [
       "477"
      ]
     },
     "execution_count": 28,
     "metadata": {},
     "output_type": "execute_result"
    }
   ],
   "source": [
    "X.shape[0] # no of training eg or rows"
   ]
  },
  {
   "cell_type": "code",
   "execution_count": 29,
   "metadata": {},
   "outputs": [
    {
     "data": {
      "text/plain": [
       "2"
      ]
     },
     "execution_count": 29,
     "metadata": {},
     "output_type": "execute_result"
    }
   ],
   "source": [
    "X.shape[1] # 2 columns or features"
   ]
  },
  {
   "cell_type": "code",
   "execution_count": 30,
   "metadata": {},
   "outputs": [],
   "source": [
    "m=X.shape[0]\n",
    "n=X.shape[1]"
   ]
  },
  {
   "cell_type": "code",
   "execution_count": 31,
   "metadata": {},
   "outputs": [],
   "source": [
    "# Choose no of iterations to find convergence\n",
    "n_iter=100"
   ]
  },
  {
   "cell_type": "code",
   "execution_count": 35,
   "metadata": {},
   "outputs": [],
   "source": [
    "# random choose k or no of clusters\n",
    "k=5"
   ]
  },
  {
   "cell_type": "code",
   "execution_count": 36,
   "metadata": {},
   "outputs": [],
   "source": [
    "# initialize random centroids from data\n",
    "centroids=np.array([]).reshape(n,0)"
   ]
  },
  {
   "cell_type": "code",
   "execution_count": 37,
   "metadata": {},
   "outputs": [],
   "source": [
    "import random\n",
    "# n x k centroids, each column is a centroid for a cluster\n",
    "for i in range(k):\n",
    "    rand=random.randint(0,m-1)\n",
    "    centroids=np.c_[centroids,X[rand]]"
   ]
  },
  {
   "cell_type": "code",
   "execution_count": 38,
   "metadata": {},
   "outputs": [],
   "source": [
    "# result a dictionary with cluster no as keys and data points as values\n",
    "# key-value pairs\n",
    "# index of a column in vector V\n",
    "result={}\n",
    "# calculate euclidean distance from each point to centroids and store in mk matrix\n",
    "\n",
    "distance=np.array([]).reshape(m,0)\n",
    "for j in range(k):\n",
    "    temp_distance=np.sum((X-centroids[:,j])**2,axis=1)\n",
    "    distance=np.c_[distance,temp_distance]\n",
    "V=np.argmin(distance,axis=1)+1\n"
   ]
  },
  {
   "cell_type": "code",
   "execution_count": 39,
   "metadata": {},
   "outputs": [
    {
     "data": {
      "text/plain": [
       "array([2, 1, 2, 3, 2, 2, 2, 2, 2, 2, 2, 2, 2, 2, 2, 2, 2, 2, 2, 2, 2, 2,\n",
       "       2, 2, 2, 2, 2, 2, 2, 2, 2, 2, 2, 2, 2, 1, 2, 1, 2, 2, 2, 2, 2, 2,\n",
       "       2, 2, 2, 2, 2, 2, 2, 2, 2, 2, 2, 2, 2, 2, 2, 2, 1, 2, 2, 2, 2, 2,\n",
       "       2, 2, 2, 2, 2, 2, 2, 2, 2, 2, 2, 2, 2, 2, 2, 2, 2, 2, 2, 2, 2, 2,\n",
       "       2, 2, 2, 2, 2, 2, 2, 2, 2, 2, 2, 2, 2, 2, 1, 2, 2, 2, 2, 1, 2, 2,\n",
       "       2, 2, 2, 2, 2, 2, 2, 2, 2, 2, 2, 2, 2, 2, 1, 2, 2, 2, 2, 2, 2, 2,\n",
       "       2, 2, 1, 2, 2, 2, 3, 1, 2, 2, 2, 2, 2, 2, 2, 2, 2, 2, 2, 1, 2, 2,\n",
       "       2, 2, 2, 2, 2, 2, 2, 2, 2, 1, 2, 2, 2, 2, 2, 2, 2, 2, 2, 2, 2, 2,\n",
       "       2, 2, 2, 2, 2, 1, 2, 2, 2, 1, 2, 2, 2, 2, 2, 2, 2, 2, 2, 2, 2, 2,\n",
       "       2, 1, 2, 2, 2, 2, 2, 1, 2, 2, 2, 2, 2, 1, 2, 2, 2, 2, 1, 2, 1, 2,\n",
       "       2, 2, 2, 2, 2, 2, 2, 2, 2, 2, 2, 2, 2, 1, 2, 2, 1, 2, 2, 2, 2, 2,\n",
       "       2, 3, 2, 2, 2, 2, 2, 2, 2, 2, 2, 2, 2, 2, 2, 2, 2, 2, 2, 2, 2, 2,\n",
       "       2, 2, 2, 2, 2, 2, 2, 2, 2, 2, 2, 2, 2, 2, 2, 2, 2, 2, 2, 2, 2, 2,\n",
       "       2, 2, 2, 2, 2, 2, 2, 2, 2, 2, 2, 2, 2, 2, 2, 2, 2, 2, 2, 2, 2, 2,\n",
       "       2, 2, 3, 1, 1, 1, 3, 2, 1, 1, 3, 3, 1, 1, 1, 3, 1, 3, 3, 3, 1, 1,\n",
       "       1, 1, 1, 1, 3, 1, 1, 1, 1, 3, 1, 1, 1, 1, 1, 1, 1, 1, 3, 1, 1, 3,\n",
       "       1, 1, 1, 1, 3, 1, 3, 1, 1, 1, 1, 3, 1, 3, 1, 1, 1, 1, 3, 1, 1, 3,\n",
       "       1, 3, 1, 3, 3, 1, 3, 3, 1, 3, 3, 1, 3, 1, 1, 1, 1, 3, 3, 3, 3, 3,\n",
       "       3, 3, 3, 3, 3, 3, 3, 1, 2, 1, 1, 1, 3, 3, 1, 3, 1, 3, 3, 3, 1, 3,\n",
       "       1, 1, 3, 3, 1, 1, 3, 3, 1, 1, 3, 1, 3, 1, 1, 1, 1, 1, 1, 1, 3, 3,\n",
       "       2, 1, 1, 1, 2, 1, 3, 1, 1, 3, 1, 1, 3, 1, 1, 2, 3, 1, 1, 1, 1, 1,\n",
       "       1, 1, 1, 1, 1, 3, 1, 3, 3, 1, 3, 3, 3, 3, 1])"
      ]
     },
     "execution_count": 39,
     "metadata": {},
     "output_type": "execute_result"
    }
   ],
   "source": [
    "V"
   ]
  },
  {
   "cell_type": "code",
   "execution_count": 40,
   "metadata": {},
   "outputs": [],
   "source": [
    "# store regrouped data points based on cluster index V\n",
    "# and compute MEAN of separated clusters and assign a new centroids\n",
    "\n",
    "temp_dict={}\n",
    "for j in range(k):\n",
    "    temp_dict[j+1]=np.array([]).reshape(2,0)\n",
    "for i in range(m):\n",
    "    temp_dict[V[i]]=np.c_[temp_dict[V[i]],X[i]]\n",
    "for j in range(k):\n",
    "    temp_dict[j+1]=temp_dict[j+1].T\n",
    "for j in range(k):\n",
    "    centroids[:,j]=np.mean(temp_dict[j+1],axis=0)\n"
   ]
  },
  {
   "cell_type": "code",
   "execution_count": 41,
   "metadata": {},
   "outputs": [],
   "source": [
    "# to achieve convergence, loop over iteration and repeat previous steps\n",
    "for i in range(n_iter):\n",
    "    distance=np.array([]).reshape(m,0)\n",
    "    for j in range(k):\n",
    "        temp_distance=np.sum(X-centroids[:,j]**2,axis=1)\n",
    "        distance=np.c_[distance,temp_distance]\n",
    "    V=np.argmin(distance,axis=1)+1\n",
    "    temp_dict={}\n",
    "    for j in range(k):\n",
    "        temp_dict[j+1]=np.array([]).reshape(2,0)\n",
    "    for i in range(m):\n",
    "        temp_dict[V[i]]=np.c_[temp_dict[V[i]],X[i]]\n",
    "    for j in range(k):\n",
    "        temp_dict[j+1]=temp_dict[j+1].T\n",
    "    for j in range(k):\n",
    "        centroids[:,j]=np.mean(temp_dict[j+1],axis=0)\n",
    "    result=temp_dict\n",
    "    "
   ]
  },
  {
   "cell_type": "code",
   "execution_count": 42,
   "metadata": {},
   "outputs": [
    {
     "data": {
      "image/png": "[encoded data removed]",
      "text/plain": [
       "<Figure size 432x288 with 1 Axes>"
      ]
     },
     "metadata": {
      "needs_background": "light"
     },
     "output_type": "display_data"
    }
   ],
   "source": [
    "plt.scatter(X[:,0],X[:,1],c='red',label='unclustered data')\n",
    "plt.xlabel('clump_thick')\n",
    "plt.ylabel('uniform_cell_size ')\n",
    "plt.legend()\n",
    "plt.title('Plot of first two features')\n",
    "plt.show()"
   ]
  },
  {
   "cell_type": "code",
   "execution_count": 44,
   "metadata": {},
   "outputs": [
    {
     "data": {
      "image/png": "[encoded data removed]",
      "text/plain": [
       "<Figure size 432x288 with 1 Axes>"
      ]
     },
     "metadata": {
      "needs_background": "light"
     },
     "output_type": "display_data"
    }
   ],
   "source": [
    "color=['red','blue','green','cyan','magenta']\n",
    "labels=['cluster1','cluster2','cluster3','cluster4','cluster4','cluster5']\n",
    "for i in range(k):\n",
    "    plt.scatter(result[i+1][:,0],result[i+1][:,1],c=color[i],label=labels[i])\n",
    "plt.scatter(centroids[0,:],centroids[1,:],s=300,c='black',label='centroids')\n",
    "plt.xlabel('clump_thick')\n",
    "plt.ylabel('uniform_cell_size ')\n",
    "plt.legend()\n",
    "plt.show()"
   ]
  },
  {
   "cell_type": "code",
   "execution_count": 60,
   "metadata": {},
   "outputs": [],
   "source": [
    "# define Kmeans class\n",
    "import random as rd\n",
    "class KMeans:\n",
    "    def __init__(self,X,k):\n",
    "        self.X=X\n",
    "        self.result={}\n",
    "        self.centroids=np.array([]).reshape(self.X.shape[1],0)\n",
    "        self.k=k\n",
    "        self.m=self.X.shape[0]\n",
    "        \n",
    "    def kmeansplusplus(self,X,k):\n",
    "        i=rd.randint(0,X.shape[0])\n",
    "        centroid_temp=np.array([X[i]])\n",
    "        for n in range(1,k):\n",
    "            D=np.array([])\n",
    "            for x in X:\n",
    "                D=np.append(D,np.min(np.sum((x-centroid_temp)**2)))\n",
    "            prob=D/np.sum(D)\n",
    "            total_prob=np.cumsum(prob)\n",
    "            r=rd.random()\n",
    "            i=0\n",
    "            for j,p in enumerate(total_prob):\n",
    "                if r<p:\n",
    "                    i=j\n",
    "                    break\n",
    "            centroid_temp=np.append(centroid_temp,[X[i]],axis=0)\n",
    "        return centroid_temp.T\n",
    "        \n",
    "    def fit(self,n_iter):\n",
    "        self.centroids=self.kmeansplusplus(self.X,self.k)\n",
    "#         for i in range(self.k):\n",
    "#             rand=random.randint(0,self.m-1)\n",
    "#             self.centroids=np.c_[self.centroids,self.X[rand]]\n",
    "        for n in range(n_iter):\n",
    "            distance=np.array([]).reshape(self.m,0)\n",
    "            for j in range(self.k):\n",
    "                temp_distance=np.sum(self.X-self.centroids[:,j]**2,axis=1)\n",
    "                distance=np.c_[distance,temp_distance]\n",
    "            V=np.argmin(distance,axis=1)+1\n",
    "            temp_dict={}\n",
    "            for j in range(self.k):\n",
    "                temp_dict[j+1]=np.array([]).reshape(2,0)\n",
    "            for i in range(self.m):\n",
    "                temp_dict[V[i]]=np.c_[temp_dict[V[i]],self.X[i]]\n",
    "            for j in range(self.k):\n",
    "                temp_dict[j+1]=temp_dict[j+1].T\n",
    "            for j in range(self.k):\n",
    "                self.centroids[:,j]=np.mean(temp_dict[j+1],axis=0)\n",
    "            self.result=temp_dict\n",
    "            \n",
    "    def predict(self):\n",
    "        return self.result,self.centroids.T\n",
    "    \n",
    "    def WCSS(self):\n",
    "        wcss=0\n",
    "        for i in range(self.k):\n",
    "            wcss+=np.sum(self.result[i+1]-self.centroids[:,i])**2\n",
    "        return wcss\n",
    "            "
   ]
  },
  {
   "cell_type": "code",
   "execution_count": 61,
   "metadata": {},
   "outputs": [],
   "source": [
    "# elbow method to find optimal number of clusters k\n",
    "m=X.shape[0]\n",
    "n_iter=100"
   ]
  },
  {
   "cell_type": "code",
   "execution_count": 62,
   "metadata": {},
   "outputs": [],
   "source": [
    "#from KMeans import KMeans"
   ]
  },
  {
   "cell_type": "code",
   "execution_count": 63,
   "metadata": {},
   "outputs": [],
   "source": [
    "WCSS_array=np.array([])\n",
    "for k in range(1,11):\n",
    "    kmeans=KMeans(X,k)\n",
    "    kmeans.fit(n_iter)\n",
    "    result,centroids=kmeans.predict()\n",
    "    wcss=0\n",
    "    for i in range(k):\n",
    "        wcss+=np.sum((result[i+1]-centroids[i,:])**2)\n",
    "    WCSS_array=np.append(WCSS_array,wcss)  "
   ]
  },
  {
   "cell_type": "code",
   "execution_count": null,
   "metadata": {},
   "outputs": [],
   "source": [
    "K_array=np.arange(1,11,1)\n",
    "plt.plot(K_array,WCSS_array)\n",
    "plt.xlabel('Number of clusters')\n",
    "plt.ylabel('within cluster Sum of Squares ')\n",
    "plt.title('Elbow method to determine optimal no of clusters')\n",
    "plt.show()"
   ]
  },
  {
   "cell_type": "code",
   "execution_count": 66,
   "metadata": {},
   "outputs": [],
   "source": [
    "k=5\n",
    "kmeans=KMeans(X,k)\n",
    "kmeans.fit(n_iter)\n",
    "result,centroids=kmeans.predict()"
   ]
  },
  {
   "cell_type": "code",
   "execution_count": 67,
   "metadata": {},
   "outputs": [
    {
     "data": {
      "image/png": "[encoded data removed]",
      "text/plain": [
       "<Figure size 432x288 with 1 Axes>"
      ]
     },
     "metadata": {
      "needs_background": "light"
     },
     "output_type": "display_data"
    }
   ],
   "source": [
    "color=['red','blue','green','cyan','magenta']\n",
    "labels=['cluster1','cluster2','cluster3','cluster4','cluster4','cluster5']\n",
    "for i in range(k):\n",
    "    plt.scatter(result[i+1][:,0],result[i+1][:,1],c=color[i],label=labels[i])\n",
    "plt.scatter(centroids[0,:],centroids[1,:],s=300,c='black',label='centroids')\n",
    "\n",
    "plt.xlabel('clump_thick')\n",
    "plt.ylabel('uniform_cell_size ')\n",
    "plt.legend()\n",
    "plt.show()"
   ]
  }
 ],
 "metadata": {
  "kernelspec": {
   "display_name": "Python 3",
   "language": "python",
   "name": "python3"
  },
  "language_info": {
   "codemirror_mode": {
    "name": "ipython",
    "version": 3
   },
   "file_extension": ".py",
   "mimetype": "text/x-python",
   "name": "python",
   "nbconvert_exporter": "python",
   "pygments_lexer": "ipython3",
   "version": "3.7.4"
  }
 },
 "nbformat": 4,
 "nbformat_minor": 2
}