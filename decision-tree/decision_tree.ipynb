{
 "cells": [
  {
   "cell_type": "code",
   "execution_count": 1,
   "metadata": {},
   "outputs": [],
   "source": [
    "# Topgyal Gurung\n",
    "# Decision Tree Algorithm from scratch on monk dataset\n",
    "import pandas as pd\n",
    "import numpy as np\n",
    "from pprint import pprint"
   ]
  },
  {
   "cell_type": "code",
   "execution_count": 2,
   "metadata": {},
   "outputs": [],
   "source": [
    "# load and prepare dataset\n",
    "# train_set\n",
    "monk1_train=pd.read_csv(\"/Users/topgyalgurung/Desktop/monk-dataset/train1.csv\")\n",
    "monk2_train=pd.read_csv(\"/Users/topgyalgurung/Desktop/monk-dataset/train2.csv\")\n",
    "monk3_train=pd.read_csv(\"/Users/topgyalgurung/Desktop/monk-dataset/train3.csv\")\n",
    "# test_set\n",
    "monk1_test=pd.read_csv(\"/Users/topgyalgurung/Desktop/monk-dataset/test1.csv\")\n",
    "monk2_test=pd.read_csv(\"/Users/topgyalgurung/Desktop/monk-dataset/test2.csv\")\n",
    "monk3_test=pd.read_csv(\"/Users/topgyalgurung/Desktop/monk-dataset/test3.csv\")\n",
    "# header=None "
   ]
  },
  {
   "cell_type": "code",
   "execution_count": 3,
   "metadata": {},
   "outputs": [],
   "source": [
    "# drop Id \n",
    "monk1_train=monk1_train.drop(\"Id\", axis=1)\n",
    "monk2_train=monk2_train.drop(\"Id\",axis=1)\n",
    "monk3_train=monk3_train.drop(\"Id\",axis=1)\n",
    "\n",
    "monk1_test=monk1_test.drop(\"Id\",axis=1)\n",
    "monk2_test=monk2_test.drop(\"Id\",axis=1)\n",
    "monk3_test=monk3_test.drop(\"Id\",axis=1)"
   ]
  },
  {
   "cell_type": "code",
   "execution_count": 4,
   "metadata": {},
   "outputs": [],
   "source": [
    "# dataframe into numpy array\n",
    "monk1_data=monk1_train.values\n",
    "monk2_data=monk2_train.values\n",
    "monk3_data=monk3_train.values"
   ]
  },
  {
   "cell_type": "code",
   "execution_count": 5,
   "metadata": {},
   "outputs": [],
   "source": [
    "# base case \n",
    "def check_purity(data):\n",
    "    label_column=data[:,0]\n",
    "    unique_classes=np.unique(label_column)\n",
    "    if len(unique_classes)==1:\n",
    "        return True\n",
    "    else:\n",
    "        return False"
   ]
  },
  {
   "cell_type": "code",
   "execution_count": 6,
   "metadata": {},
   "outputs": [],
   "source": [
    "def classify_data(data):\n",
    "    label_column=data[:,0]\n",
    "    unique_classes,counts_unique_classes=np.unique(label_column,return_counts=True) # [0 1] , [62 62]\n",
    "    index=counts_unique_classes.argmax()  # use max class as index \n",
    "    classification=unique_classes[index]\n",
    "    return classification"
   ]
  },
  {
   "cell_type": "code",
   "execution_count": 7,
   "metadata": {},
   "outputs": [],
   "source": [
    "def get_potential_splits(data):\n",
    "    potential_splits={}\n",
    "    _,n_columns=data.shape  #iterate over column\n",
    "    for column_i in range(1,n_columns):  # column index exclude class\n",
    "        values = data[:, column_i]\n",
    "        unique_values = np.unique(values)\n",
    "        potential_splits[column_i]=unique_values\n",
    "    return potential_splits  "
   ]
  },
  {
   "cell_type": "code",
   "execution_count": 8,
   "metadata": {},
   "outputs": [],
   "source": [
    "# split data to data equal if equal and data_not for not equal\n",
    "def split_data(data,split_column,split_value):\n",
    "    #random.shuffle(data)\n",
    "    split_column_values=data[:,split_column]\n",
    "    true_data=data[split_column_values==split_value]\n",
    "    false_data=data[split_column_values!=split_value]\n",
    "    return true_data,false_data  "
   ]
  },
  {
   "cell_type": "code",
   "execution_count": 9,
   "metadata": {},
   "outputs": [],
   "source": [
    "# entropy: measure of uncertainty\n",
    "def entropy(data):\n",
    "    label_column=data[:,0]\n",
    "    _,counts=np.unique(label_column,return_counts=True)\n",
    "    \n",
    "    probability=counts/counts.sum()\n",
    "    entropy=sum(probability*-np.log2(probability))\n",
    "    return entropy"
   ]
  },
  {
   "cell_type": "code",
   "execution_count": 10,
   "metadata": {},
   "outputs": [
    {
     "data": {
      "text/plain": [
       "1.0"
      ]
     },
     "execution_count": 10,
     "metadata": {},
     "output_type": "execute_result"
    }
   ],
   "source": [
    "entropy(monk1_data)"
   ]
  },
  {
   "cell_type": "code",
   "execution_count": 11,
   "metadata": {},
   "outputs": [
    {
     "data": {
      "text/plain": [
       "0.957117428264771"
      ]
     },
     "execution_count": 11,
     "metadata": {},
     "output_type": "execute_result"
    }
   ],
   "source": [
    "entropy(monk2_data)"
   ]
  },
  {
   "cell_type": "code",
   "execution_count": 12,
   "metadata": {},
   "outputs": [
    {
     "data": {
      "text/plain": [
       "0.999806132804711"
      ]
     },
     "execution_count": 12,
     "metadata": {},
     "output_type": "execute_result"
    }
   ],
   "source": [
    "entropy(monk3_data)"
   ]
  },
  {
   "cell_type": "code",
   "execution_count": 13,
   "metadata": {},
   "outputs": [],
   "source": [
    "def overall_entropy(true_data, false_data):\n",
    "    n=len(true_data)+len(false_data)\n",
    "    p_true_data=len(true_data)/n\n",
    "    p_false_data=len(false_data)/n\n",
    "    overall_entropy=(p_true_data * entropy(true_data) + p_false_data * entropy(false_data))\n",
    "    return overall_entropy"
   ]
  },
  {
   "cell_type": "code",
   "execution_count": 14,
   "metadata": {},
   "outputs": [],
   "source": [
    "# def overall_entropy(data, true_data, false_data):\n",
    "#     p=len(true_data)/len(data)\n",
    "#     overall_entropy=entropy(data) - p* entropy(true_data)-(1-p) *entropy(false_data)\n",
    "#     return overall_entropy"
   ]
  },
  {
   "cell_type": "code",
   "execution_count": 15,
   "metadata": {},
   "outputs": [],
   "source": [
    "def best_split(data,potential_splits):\n",
    "    temp_entropy=999  #arbitary large num\n",
    "    for column_index in potential_splits:\n",
    "        for value in potential_splits[column_index]:\n",
    "            true_data,false_data=split_data(data,split_column=column_index,split_value=value)\n",
    "            #info_gain\n",
    "            current_overall_entropy=overall_entropy(true_data,false_data)\n",
    "            #print(current_overall_entropy)\n",
    "            if current_overall_entropy<=temp_entropy:\n",
    "                temp_entropy=current_overall_entropy\n",
    "                best_split_column=column_index\n",
    "                best_split_value=value\n",
    "    return best_split_column, best_split_value"
   ]
  },
  {
   "cell_type": "code",
   "execution_count": 16,
   "metadata": {},
   "outputs": [],
   "source": [
    "# recursive decision_tree algorithm\n",
    "def decision_tree(train_set,counter=0):\n",
    "    if counter==0:\n",
    "        global column_headers\n",
    "        column_headers=train_set.columns\n",
    "        data=train_set.values  # numpy array\n",
    "    else:\n",
    "        data= train_set   # pandas dataframe\n",
    "    \n",
    "    # base case\n",
    "    if check_purity(data):\n",
    "        classification=classify_data(data)\n",
    "        return classification\n",
    "    # recursive\n",
    "    else:\n",
    "        counter+=1\n",
    "        # run helper functions\n",
    "        potential_splits=get_potential_splits(data)\n",
    "        split_column,split_value=best_split(data,potential_splits)\n",
    "        true_data,false_data=split_data(data,split_column,split_value)\n",
    "\n",
    "        # sub_tree\n",
    "        feature_name=column_headers[split_column]\n",
    "        question=\"{} == {}\".format(feature_name,split_value)\n",
    "        sub_tree={question:[]} #empty list\n",
    "        # find ans (recursive part)\n",
    "        yes_ans=decision_tree(true_data,counter)\n",
    "        no_ans=decision_tree(false_data,counter)\n",
    "        \n",
    "        if yes_ans==no_ans:\n",
    "            sub_tree=yes_ans\n",
    "        else:\n",
    "            sub_tree[question].append(yes_ans)\n",
    "            sub_tree[question].append(no_ans)\n",
    "\n",
    "        return sub_tree"
   ]
  },
  {
   "cell_type": "code",
   "execution_count": 17,
   "metadata": {},
   "outputs": [],
   "source": [
    "def classify_df(df,tree):\n",
    "    question=list(tree.keys())[0]\n",
    "    feature_name,operator,value=question.split(\" \")\n",
    "    \n",
    "    if str(df[feature_name])== value:\n",
    "        ans=tree[question][0]\n",
    "    else:\n",
    "        ans=tree[question][1]\n",
    "    \n",
    "    # base case\n",
    "    if not isinstance(ans,dict):\n",
    "        \n",
    "        return ans\n",
    "    # recursion\n",
    "    else:\n",
    "        residual_tree=ans\n",
    "        return classify_df(df,residual_tree)"
   ]
  },
  {
   "cell_type": "code",
   "execution_count": 25,
   "metadata": {},
   "outputs": [],
   "source": [
    "def accuracy(df,tree):\n",
    "    df[\"classification\"]=df.apply(classify_df,args=(tree,),axis=1)\n",
    "    df[\"classification_correct\"]=df[\"classification\"]==df[\"class\"]\n",
    "    accuracy=df[\"classification_correct\"].mean()\n",
    "    return accuracy"
   ]
  },
  {
   "cell_type": "markdown",
   "metadata": {},
   "source": [
    "###  Evaluation"
   ]
  },
  {
   "cell_type": "code",
   "execution_count": 26,
   "metadata": {},
   "outputs": [],
   "source": [
    "monk1_tree=decision_tree(monk1_train)\n",
    "monk2_tree=decision_tree(monk2_train)\n",
    "monk3_tree=decision_tree(monk3_train)"
   ]
  },
  {
   "cell_type": "markdown",
   "metadata": {},
   "source": [
    "#### MONK 1 "
   ]
  },
  {
   "cell_type": "code",
   "execution_count": 27,
   "metadata": {},
   "outputs": [
    {
     "name": "stdout",
     "output_type": "stream",
     "text": [
      "MONK-1 TREE:\n",
      "{'a5 == 1': [1,\n",
      "             {'a1 == 1': [{'a2 == 1': [1, 0]},\n",
      "                          {'a2 == 1': [0,\n",
      "                                       {'a5 == 3': [{'a2 == 3': [{'a1 == 3': [1,\n",
      "                                                                              0]},\n",
      "                                                                 {'a1 == 3': [0,\n",
      "                                                                              1]}]},\n",
      "                                                    {'a4 == 1': [{'a6 == 2': [{'a3 == 2': [1,\n",
      "                                                                                           {'a5 == 4': [{'a2 == 3': [1,\n",
      "                                                                                                                     0]},\n",
      "                                                                                                        1]}]},\n",
      "                                                                              1]},\n",
      "                                                                 {'a6 == 2': [{'a5 == 4': [{'a3 == 2': [1,\n",
      "                                                                                                        {'a4 == 3': [{'a2 == 3': [{'a1 == 3': [1,\n",
      "                                                                                                                                               0]},\n",
      "                                                                                                                                  1]},\n",
      "                                                                                                                     {'a2 == 3': [1,\n",
      "                                                                                                                                  0]}]}]},\n",
      "                                                                                           1]},\n",
      "                                                                              {'a3 == 2': [{'a1 == 3': [0,\n",
      "                                                                                                        {'a2 == 3': [0,\n",
      "                                                                                                                     1]}]},\n",
      "                                                                                           1]}]}]}]}]}]}]}\n"
     ]
    }
   ],
   "source": [
    "print(\"MONK-1 TREE:\")\n",
    "pprint(monk1_tree)"
   ]
  },
  {
   "cell_type": "code",
   "execution_count": 28,
   "metadata": {},
   "outputs": [
    {
     "data": {
      "text/plain": [
       "1"
      ]
     },
     "execution_count": 28,
     "metadata": {},
     "output_type": "execute_result"
    }
   ],
   "source": [
    "classify_df(monk1_train,monk1_tree)"
   ]
  },
  {
   "cell_type": "code",
   "execution_count": 29,
   "metadata": {},
   "outputs": [
    {
     "data": {
      "text/plain": [
       "1"
      ]
     },
     "execution_count": 29,
     "metadata": {},
     "output_type": "execute_result"
    }
   ],
   "source": [
    "classify_df(monk1_test,monk1_tree)"
   ]
  },
  {
   "cell_type": "code",
   "execution_count": 30,
   "metadata": {},
   "outputs": [
    {
     "data": {
      "text/plain": [
       "1.0"
      ]
     },
     "execution_count": 30,
     "metadata": {},
     "output_type": "execute_result"
    }
   ],
   "source": [
    "accuracy(monk1_train,monk1_tree)"
   ]
  },
  {
   "cell_type": "code",
   "execution_count": 31,
   "metadata": {},
   "outputs": [
    {
     "data": {
      "text/plain": [
       "0.9004629629629629"
      ]
     },
     "execution_count": 31,
     "metadata": {},
     "output_type": "execute_result"
    }
   ],
   "source": [
    "accuracy(monk1_test,monk1_tree)"
   ]
  },
  {
   "cell_type": "markdown",
   "metadata": {},
   "source": [
    "## MONK 2"
   ]
  },
  {
   "cell_type": "code",
   "execution_count": 32,
   "metadata": {},
   "outputs": [
    {
     "name": "stdout",
     "output_type": "stream",
     "text": [
      "MONK-2 TREE:\n",
      "{'a4 == 1': [{'a5 == 1': [{'a6 == 2': [{'a3 == 2': [{'a2 == 3': [1, 0]}, 0]},\n",
      "                                       0]},\n",
      "                          {'a1 == 1': [{'a6 == 2': [{'a3 == 2': [1, 0]}, 0]},\n",
      "                                       {'a6 == 2': [{'a3 == 2': [{'a2 == 1': [1,\n",
      "                                                                              0]},\n",
      "                                                                 {'a2 == 1': [0,\n",
      "                                                                              1]}]},\n",
      "                                                    {'a3 == 2': [{'a2 == 1': [0,\n",
      "                                                                              1]},\n",
      "                                                                 0]}]}]}]},\n",
      "             {'a5 == 2': [{'a3 == 2': [{'a2 == 2': [0,\n",
      "                                                    {'a1 == 1': [1,\n",
      "                                                                 {'a2 == 3': [0,\n",
      "                                                                              {'a6 == 2': [0,\n",
      "                                                                                           1]}]}]}]},\n",
      "                                       {'a6 == 2': [1, {'a1 == 1': [0, 1]}]}]},\n",
      "                          {'a2 == 1': [{'a6 == 2': [{'a5 == 3': [{'a3 == 2': [0,\n",
      "                                                                              1]},\n",
      "                                                                 {'a3 == 2': [{'a5 == 4': [{'a1 == 1': [1,\n",
      "                                                                                                        0]},\n",
      "                                                                                           {'a1 == 1': [0,\n",
      "                                                                                                        1]}]},\n",
      "                                                                              {'a5 == 4': [1,\n",
      "                                                                                           0]}]}]},\n",
      "                                                    0]},\n",
      "                                       {'a6 == 2': [{'a1 == 1': [{'a3 == 2': [{'a5 == 1': [1,\n",
      "                                                                                           0]},\n",
      "                                                                              {'a5 == 1': [0,\n",
      "                                                                                           1]}]},\n",
      "                                                                 {'a5 == 1': [1,\n",
      "                                                                              0]}]},\n",
      "                                                    {'a3 == 2': [{'a5 == 3': [{'a1 == 1': [1,\n",
      "                                                                                           0]},\n",
      "                                                                              {'a1 == 1': [{'a5 == 4': [1,\n",
      "                                                                                                        0]},\n",
      "                                                                                           1]}]},\n",
      "                                                                 {'a1 == 1': [0,\n",
      "                                                                              {'a5 == 1': [0,\n",
      "                                                                                           1]}]}]}]}]}]}]}\n"
     ]
    }
   ],
   "source": [
    "print(\"MONK-2 TREE:\")\n",
    "pprint(monk2_tree)"
   ]
  },
  {
   "cell_type": "code",
   "execution_count": 33,
   "metadata": {},
   "outputs": [
    {
     "data": {
      "text/plain": [
       "1"
      ]
     },
     "execution_count": 33,
     "metadata": {},
     "output_type": "execute_result"
    }
   ],
   "source": [
    "classify_df(monk2_train,monk2_tree)"
   ]
  },
  {
   "cell_type": "code",
   "execution_count": 34,
   "metadata": {},
   "outputs": [
    {
     "data": {
      "text/plain": [
       "1"
      ]
     },
     "execution_count": 34,
     "metadata": {},
     "output_type": "execute_result"
    }
   ],
   "source": [
    "classify_df(monk2_test,monk2_tree)"
   ]
  },
  {
   "cell_type": "code",
   "execution_count": 35,
   "metadata": {},
   "outputs": [
    {
     "data": {
      "text/plain": [
       "1.0"
      ]
     },
     "execution_count": 35,
     "metadata": {},
     "output_type": "execute_result"
    }
   ],
   "source": [
    "accuracy(monk2_train,monk2_tree)"
   ]
  },
  {
   "cell_type": "code",
   "execution_count": 36,
   "metadata": {},
   "outputs": [
    {
     "data": {
      "text/plain": [
       "0.4861111111111111"
      ]
     },
     "execution_count": 36,
     "metadata": {},
     "output_type": "execute_result"
    }
   ],
   "source": [
    "accuracy(monk1_test,monk2_tree)"
   ]
  },
  {
   "cell_type": "markdown",
   "metadata": {},
   "source": [
    "## MONK -3 "
   ]
  },
  {
   "cell_type": "code",
   "execution_count": 37,
   "metadata": {},
   "outputs": [
    {
     "name": "stdout",
     "output_type": "stream",
     "text": [
      "MONK-3 TREE:\n",
      "{'a2 == 3': [{'a4 == 1': [{'a3 == 2': [0, {'a1 == 1': [0, 1]}]}, 0]},\n",
      "             {'a5 == 4': [0,\n",
      "                          {'a5 == 3': [{'a3 == 2': [1,\n",
      "                                                    {'a1 == 3': [1,\n",
      "                                                                 {'a6 == 2': [{'a4 == 3': [{'a2 == 2': [{'a1 == 2': [0,\n",
      "                                                                                                                     1]},\n",
      "                                                                                                        1]},\n",
      "                                                                                           1]},\n",
      "                                                                              {'a4 == 1': [{'a2 == 2': [1,\n",
      "                                                                                                        0]},\n",
      "                                                                                           0]}]}]}]},\n",
      "                                       {'a1 == 2': [{'a6 == 2': [1,\n",
      "                                                                 {'a5 == 2': [0,\n",
      "                                                                              1]}]},\n",
      "                                                    1]}]}]}]}\n"
     ]
    }
   ],
   "source": [
    "print(\"MONK-3 TREE:\")\n",
    "pprint(monk3_tree)"
   ]
  },
  {
   "cell_type": "code",
   "execution_count": 38,
   "metadata": {},
   "outputs": [
    {
     "data": {
      "text/plain": [
       "1"
      ]
     },
     "execution_count": 38,
     "metadata": {},
     "output_type": "execute_result"
    }
   ],
   "source": [
    "classify_df(monk3_train,monk3_tree)"
   ]
  },
  {
   "cell_type": "code",
   "execution_count": 39,
   "metadata": {},
   "outputs": [
    {
     "data": {
      "text/plain": [
       "1"
      ]
     },
     "execution_count": 39,
     "metadata": {},
     "output_type": "execute_result"
    }
   ],
   "source": [
    "classify_df(monk3_test,monk3_tree)"
   ]
  },
  {
   "cell_type": "code",
   "execution_count": 40,
   "metadata": {},
   "outputs": [
    {
     "data": {
      "text/plain": [
       "0.5725806451612904"
      ]
     },
     "execution_count": 40,
     "metadata": {},
     "output_type": "execute_result"
    }
   ],
   "source": [
    "accuracy(monk1_train,monk3_tree)"
   ]
  },
  {
   "cell_type": "code",
   "execution_count": 41,
   "metadata": {},
   "outputs": [
    {
     "data": {
      "text/plain": [
       "0.5625"
      ]
     },
     "execution_count": 41,
     "metadata": {},
     "output_type": "execute_result"
    }
   ],
   "source": [
    "accuracy(monk1_test,monk3_tree)"
   ]
  },
  {
   "cell_type": "markdown",
   "metadata": {},
   "source": [
    "# Main function "
   ]
  },
  {
   "cell_type": "code",
   "execution_count": 42,
   "metadata": {},
   "outputs": [],
   "source": [
    "# if __name__==\"__main__\":\n",
    "#     monk1_tree=decision_tree(monk1_train)\n",
    "#     monk2_tree=decision_tree(monk2_train)\n",
    "#     monk3_tree=decision_tree(monk3_train)\n",
    "    \n",
    "#     print(\"MONK-1 TREE:\")\n",
    "#     pprint(monk1_tree)\n",
    "#     print(\"MONK-2 TREE:\")\n",
    "#     pprint(monk2_tree)\n",
    "#     print(\"MONK-3 TREE:\")\n",
    "#     pprint(monk3_tree)\n",
    "\n",
    "#     classify(monk1_train,monk1_tree)\n",
    "#     accuracy(monk1_train,monk1_tree)\n",
    "\n",
    "#     post-prune tree\n",
    "    \n",
    "#     classify(monk1_test,monk1_tree)\n",
    "#     accuracy(monk1_test,monk1_tree)\n",
    "\n"
   ]
  }
 ],
 "metadata": {
  "kernelspec": {
   "display_name": "Python 3",
   "language": "python",
   "name": "python3"
  },
  "language_info": {
   "codemirror_mode": {
    "name": "ipython",
    "version": 3
   },
   "file_extension": ".py",
   "mimetype": "text/x-python",
   "name": "python",
   "nbconvert_exporter": "python",
   "pygments_lexer": "ipython3",
   "version": "3.7.4"
  }
 },
 "nbformat": 4,
 "nbformat_minor": 2
}
