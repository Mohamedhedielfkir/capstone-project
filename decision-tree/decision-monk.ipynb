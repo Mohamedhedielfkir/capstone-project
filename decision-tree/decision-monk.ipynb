{
 "cells": [
  {
   "cell_type": "code",
   "execution_count": 1,
   "metadata": {},
   "outputs": [],
   "source": [
    "# Topgyal Gurung\n",
    "# Decision Tree Algorithm from scratch on monk dataset\n",
    "\n",
    "import pandas as pd\n",
    "import numpy as np\n",
    "import random\n",
    "from pprint import pprint"
   ]
  },
  {
   "cell_type": "code",
   "execution_count": 2,
   "metadata": {},
   "outputs": [],
   "source": [
    "# load and prepare dataset\n",
    "# train_set\n",
    "monk1_train=pd.read_csv(\"/Users/topgyalgurung/Desktop/monk-dataset/train1.csv\")\n",
    "monk2_train=pd.read_csv(\"/Users/topgyalgurung/Desktop/monk-dataset/train2.csv\")\n",
    "monk3_train=pd.read_csv(\"/Users/topgyalgurung/Desktop/monk-dataset/train3.csv\")\n",
    "# test_set\n",
    "monk1_test=pd.read_csv(\"/Users/topgyalgurung/Desktop/monk-dataset/test1.csv\", header=None)\n",
    "monk2_test=pd.read_csv(\"/Users/topgyalgurung/Desktop/monk-dataset/test2.csv\", header=None)\n",
    "monk3_test=pd.read_csv(\"/Users/topgyalgurung/Desktop/monk-dataset/test3.csv\", header=None)"
   ]
  },
  {
   "cell_type": "code",
   "execution_count": 3,
   "metadata": {},
   "outputs": [],
   "source": [
    "monk1_train=monk1_train.drop(\"Id\", axis=1)\n",
    "monk2_train=monk2_train.drop(\"Id\",axis=1)\n",
    "monk3_train=monk3_train.drop(\"Id\",axis=1)\n",
    "\n",
    "monk1_test=monk1_test.drop([7],axis=1)\n",
    "monk2_test=monk2_test.drop([7],axis=1)\n",
    "monk3_test=monk3_test.drop([7],axis=1)"
   ]
  },
  {
   "cell_type": "code",
   "execution_count": 4,
   "metadata": {},
   "outputs": [],
   "source": [
    "# dataframe into numpy array\n",
    "monk1_data=monk1_train.values\n",
    "monk2_data=monk2_train.values\n",
    "monk3_data=monk3_train.values"
   ]
  },
  {
   "cell_type": "code",
   "execution_count": 5,
   "metadata": {},
   "outputs": [],
   "source": [
    "#data[:2]  # print first 2 rows\n",
    "#data[:,0] # print first class data"
   ]
  },
  {
   "cell_type": "markdown",
   "metadata": {},
   "source": [
    "## HELPER FUNCTIONS"
   ]
  },
  {
   "cell_type": "code",
   "execution_count": 6,
   "metadata": {},
   "outputs": [
    {
     "data": {
      "text/plain": [
       "(array([0, 1]), array([62, 62]))"
      ]
     },
     "execution_count": 6,
     "metadata": {},
     "output_type": "execute_result"
    }
   ],
   "source": [
    "label_column=monk1_data[:,0]   # class\n",
    "np.unique(label_column,return_counts=True) #0,1"
   ]
  },
  {
   "cell_type": "code",
   "execution_count": 7,
   "metadata": {},
   "outputs": [
    {
     "name": "stdout",
     "output_type": "stream",
     "text": [
      "[0 1]\n",
      "2\n",
      "[62 62]\n"
     ]
    }
   ],
   "source": [
    "# use max class as index\n",
    "unique_classes,counts_unique_classes=np.unique(label_column,return_counts=True)\n",
    "_,counts_unique_classes=np.unique(label_column,return_counts=True)\n",
    "print(unique_classes) \n",
    "print(len(unique_classes))\n",
    "print(counts_unique_classes) # 50-50 "
   ]
  },
  {
   "cell_type": "code",
   "execution_count": 8,
   "metadata": {},
   "outputs": [],
   "source": [
    "# base case check if data is pure or just one class type\n",
    "def check_purity(data):\n",
    "    label_column=data[:,0]\n",
    "    unique_classes=np.unique(label_column)\n",
    "    \n",
    "    if len(unique_classes)==1:\n",
    "        return True\n",
    "    else:\n",
    "        return False"
   ]
  },
  {
   "cell_type": "code",
   "execution_count": 9,
   "metadata": {},
   "outputs": [],
   "source": [
    "def classify_data(data):\n",
    "    label_column=data[:,0]  # label_column = class\n",
    "    unique_classes,counts_unique_classes=np.unique(label_column,return_counts=True) # check distinct column for class\n",
    "    # use max class as index \n",
    "    index=counts_unique_classes.argmax()\n",
    "    classification=unique_classes[index]\n",
    "    return classification"
   ]
  },
  {
   "cell_type": "markdown",
   "metadata": {},
   "source": [
    "### POTENTIAL SPLITS"
   ]
  },
  {
   "cell_type": "code",
   "execution_count": 10,
   "metadata": {},
   "outputs": [
    {
     "data": {
      "text/plain": [
       "(124, 7)"
      ]
     },
     "execution_count": 10,
     "metadata": {},
     "output_type": "execute_result"
    }
   ],
   "source": [
    "monk1_data.shape  # 124 rows, 7 columns"
   ]
  },
  {
   "cell_type": "code",
   "execution_count": 11,
   "metadata": {},
   "outputs": [
    {
     "name": "stdout",
     "output_type": "stream",
     "text": [
      "[1 2 3]\n",
      "[45 42 37]\n",
      "\n",
      "[1 2 3]\n",
      "[35 42 47]\n",
      "\n",
      "[1 2]\n",
      "[65 59]\n",
      "\n",
      "[1 2 3]\n",
      "[42 39 43]\n",
      "\n",
      "[1 2 3 4]\n",
      "[29 31 30 34]\n",
      "\n",
      "[1 2]\n",
      "[56 68]\n",
      "\n"
     ]
    }
   ],
   "source": [
    " #iterate over column \n",
    "_,n_columns=monk1_train.shape\n",
    "for column_i in range(1,n_columns):  # column index\n",
    "    values=monk1_data[:,column_i]\n",
    "    #unique_values=np.unique(values)\n",
    "    unique_values,unique_value_counts=np.unique(values,return_counts=True)\n",
    "    if column_i!=0:\n",
    "        print(unique_values) \n",
    "        print(unique_value_counts)\n",
    "        print(\"\")"
   ]
  },
  {
   "cell_type": "code",
   "execution_count": 12,
   "metadata": {},
   "outputs": [],
   "source": [
    "# potential splits\n",
    "def get_potential_splits(data):\n",
    "    potential_splits={}\n",
    "    _,n_columns=data.shape  #iterate over column\n",
    "    for column_i in range(1,n_columns):  # column index exclude class\n",
    "        values = data[:, column_i]\n",
    "        unique_values = np.unique(values)\n",
    "        potential_splits[column_i]=unique_values\n",
    "    return potential_splits  "
   ]
  },
  {
   "cell_type": "code",
   "execution_count": 13,
   "metadata": {},
   "outputs": [
    {
     "data": {
      "text/plain": [
       "{1: array([1, 2, 3]),\n",
       " 2: array([1, 2, 3]),\n",
       " 3: array([1, 2]),\n",
       " 4: array([1, 2, 3]),\n",
       " 5: array([1, 2, 3, 4]),\n",
       " 6: array([1, 2])}"
      ]
     },
     "execution_count": 13,
     "metadata": {},
     "output_type": "execute_result"
    }
   ],
   "source": [
    "# should start from 1: classes should not include\n",
    "get_potential_splits(monk1_data)"
   ]
  },
  {
   "cell_type": "markdown",
   "metadata": {},
   "source": [
    "# SPLIT DATA"
   ]
  },
  {
   "cell_type": "code",
   "execution_count": 14,
   "metadata": {},
   "outputs": [],
   "source": [
    "# split data to data equal if equal and data_not for not equal\n",
    "def split_data(data,split_column,split_value):\n",
    "    #random.shuffle(data)\n",
    "    split_column_values=data[:,split_column]\n",
    "    data_equal=data[split_column_values==split_value]\n",
    "    data_not=data[split_column_values!=split_value]\n",
    "    return data_equal,data_not  "
   ]
  },
  {
   "cell_type": "code",
   "execution_count": 15,
   "metadata": {},
   "outputs": [],
   "source": [
    "# split_value=data[:,1] # e.g a1\n",
    "# split=split_data(train_data,2,split_value)\n",
    "# _,data_not=split\n",
    "#data_equal,_=split\n",
    "# print(data_not)"
   ]
  },
  {
   "cell_type": "markdown",
   "metadata": {},
   "source": [
    "# entropy "
   ]
  },
  {
   "cell_type": "code",
   "execution_count": 16,
   "metadata": {},
   "outputs": [],
   "source": [
    "label_column=monk1_data[:,0] # first column=class"
   ]
  },
  {
   "cell_type": "code",
   "execution_count": 17,
   "metadata": {},
   "outputs": [
    {
     "name": "stdout",
     "output_type": "stream",
     "text": [
      "[62 62]\n"
     ]
    },
    {
     "data": {
      "text/plain": [
       "array([0.5, 0.5])"
      ]
     },
     "execution_count": 17,
     "metadata": {},
     "output_type": "execute_result"
    }
   ],
   "source": [
    "_,counts=np.unique(label_column,return_counts=True)\n",
    "print(counts)\n",
    "counts.sum()\n",
    "counts/counts.sum()"
   ]
  },
  {
   "cell_type": "code",
   "execution_count": 18,
   "metadata": {},
   "outputs": [],
   "source": [
    "# entropy (each feature)\n",
    "def entropy(data):\n",
    "    label_column=data[:,0]\n",
    "    _,counts=np.unique(label_column,return_counts=True)\n",
    "    \n",
    "    probabilities=counts/counts.sum()\n",
    "    entropy=sum(probabilities*-np.log2(probabilities))\n",
    "    return entropy"
   ]
  },
  {
   "cell_type": "code",
   "execution_count": 19,
   "metadata": {},
   "outputs": [
    {
     "data": {
      "text/plain": [
       "1.0"
      ]
     },
     "execution_count": 19,
     "metadata": {},
     "output_type": "execute_result"
    }
   ],
   "source": [
    "entropy(monk1_data)"
   ]
  },
  {
   "cell_type": "code",
   "execution_count": 20,
   "metadata": {},
   "outputs": [
    {
     "data": {
      "text/plain": [
       "0.957117428264771"
      ]
     },
     "execution_count": 20,
     "metadata": {},
     "output_type": "execute_result"
    }
   ],
   "source": [
    "entropy(monk2_data)"
   ]
  },
  {
   "cell_type": "code",
   "execution_count": 21,
   "metadata": {},
   "outputs": [
    {
     "data": {
      "text/plain": [
       "0.999806132804711"
      ]
     },
     "execution_count": 21,
     "metadata": {},
     "output_type": "execute_result"
    }
   ],
   "source": [
    "entropy(monk3_data)"
   ]
  },
  {
   "cell_type": "code",
   "execution_count": 22,
   "metadata": {},
   "outputs": [],
   "source": [
    "def overall_entropy(data_below, data_above):\n",
    "    n=len(data_below)+len(data_above)\n",
    "    p_data_below=len(data_below)/n\n",
    "    p_data_above=len(data_above)/n\n",
    "    overall_entropy=(p_data_below * entropy(data_below) + p_data_above * entropy(data_above))\n",
    "    return overall_entropy"
   ]
  },
  {
   "cell_type": "code",
   "execution_count": 23,
   "metadata": {},
   "outputs": [
    {
     "data": {
      "text/plain": [
       "{1: array([1, 2, 3]),\n",
       " 2: array([1, 2, 3]),\n",
       " 3: array([1, 2]),\n",
       " 4: array([1, 2, 3]),\n",
       " 5: array([1, 2, 3, 4]),\n",
       " 6: array([1, 2])}"
      ]
     },
     "execution_count": 23,
     "metadata": {},
     "output_type": "execute_result"
    }
   ],
   "source": [
    "get_potential_splits(monk1_data)"
   ]
  },
  {
   "cell_type": "markdown",
   "metadata": {},
   "source": [
    "# Determine best split"
   ]
  },
  {
   "cell_type": "code",
   "execution_count": 24,
   "metadata": {},
   "outputs": [],
   "source": [
    "# best_split\n",
    "def best_split(data,potential_splits):\n",
    "    temp_entropy=999\n",
    "    for column_index in potential_splits:\n",
    "        for value in potential_splits[column_index]:\n",
    "            data_below,data_above=split_data(data,split_column=column_index,split_value=value)\n",
    "            current_overall_entropy=overall_entropy(data_below,data_above)\n",
    "            \n",
    "            if current_overall_entropy<=temp_entropy:\n",
    "                temp_entropy=current_overall_entropy\n",
    "                best_split_column=column_index\n",
    "                best_split_value=value\n",
    "    return best_split_column, best_split_value"
   ]
  },
  {
   "cell_type": "markdown",
   "metadata": {},
   "source": [
    "# representation of decision tree\n",
    "sub_tree={question:[1,2,3,4]} # depends on attribute"
   ]
  },
  {
   "cell_type": "code",
   "execution_count": 25,
   "metadata": {},
   "outputs": [],
   "source": [
    "potential_splits=get_potential_splits(monk1_data)"
   ]
  },
  {
   "cell_type": "code",
   "execution_count": 26,
   "metadata": {},
   "outputs": [
    {
     "data": {
      "text/plain": [
       "(5, 1)"
      ]
     },
     "execution_count": 26,
     "metadata": {},
     "output_type": "execute_result"
    }
   ],
   "source": [
    "best_split(monk1_data,potential_splits)"
   ]
  },
  {
   "cell_type": "code",
   "execution_count": 27,
   "metadata": {},
   "outputs": [],
   "source": [
    "potential_splits=get_potential_splits(monk1_data)\n",
    "split_column,split_value=best_split(monk1_data,potential_splits)\n",
    "data_below,data_above=split_data(monk1_data,split_column,split_value)\n",
    "#data_below"
   ]
  },
  {
   "cell_type": "code",
   "execution_count": 28,
   "metadata": {},
   "outputs": [],
   "source": [
    "# recursive decision_tree algorithm\n",
    "def decision_tree(train_set,counter=0):\n",
    "    if counter==0:\n",
    "        global column_headers\n",
    "        column_headers=train_set.columns\n",
    "        data=train_set.values  # numpy array\n",
    "    else:\n",
    "        data= train_set   # pandas dataframe\n",
    "    \n",
    "    # base case\n",
    "    if check_purity(data):\n",
    "        classification=classify_data(data)\n",
    "        return classification\n",
    "    # recursive\n",
    "    else:\n",
    "        counter+=1\n",
    "        # run helper functions\n",
    "        potential_splits=get_potential_splits(data)\n",
    "        split_column,split_value=best_split(data,potential_splits)\n",
    "        data_below,data_above=split_data(data,split_column,split_value)\n",
    "\n",
    "        # sub_tree\n",
    "        feature_name=column_headers[split_column]\n",
    "        question=\"{} == {}\".format(feature_name,split_value)\n",
    "        sub_tree={question:[]} #empty list\n",
    "        # find ans (recursive part)\n",
    "        yes_ans=decision_tree(data_below,counter)\n",
    "        no_ans=decision_tree(data_above,counter)\n",
    "        \n",
    "        if yes_ans==no_ans:\n",
    "            sub_tree=yes_ans\n",
    "        else:\n",
    "            sub_tree[question].append(yes_ans)\n",
    "            sub_tree[question].append(no_ans)\n",
    "\n",
    "        return sub_tree"
   ]
  },
  {
   "cell_type": "code",
   "execution_count": 29,
   "metadata": {},
   "outputs": [],
   "source": [
    "tree=decision_tree(monk1_train)"
   ]
  },
  {
   "cell_type": "code",
   "execution_count": 30,
   "metadata": {},
   "outputs": [],
   "source": [
    "tree2=decision_tree(monk2_train)"
   ]
  },
  {
   "cell_type": "code",
   "execution_count": 31,
   "metadata": {},
   "outputs": [],
   "source": [
    "tree3=decision_tree(monk3_train)"
   ]
  },
  {
   "cell_type": "code",
   "execution_count": 32,
   "metadata": {},
   "outputs": [],
   "source": [
    "#monk1_train.columns"
   ]
  },
  {
   "cell_type": "code",
   "execution_count": 33,
   "metadata": {},
   "outputs": [
    {
     "name": "stdout",
     "output_type": "stream",
     "text": [
      "{'a5 == 1': [1,\n",
      "             {'a1 == 1': [{'a2 == 1': [1, 0]},\n",
      "                          {'a2 == 1': [0,\n",
      "                                       {'a5 == 3': [{'a2 == 3': [{'a1 == 3': [1,\n",
      "                                                                              0]},\n",
      "                                                                 {'a1 == 3': [0,\n",
      "                                                                              1]}]},\n",
      "                                                    {'a4 == 1': [{'a6 == 2': [{'a3 == 2': [1,\n",
      "                                                                                           {'a5 == 4': [{'a2 == 3': [1,\n",
      "                                                                                                                     0]},\n",
      "                                                                                                        1]}]},\n",
      "                                                                              1]},\n",
      "                                                                 {'a6 == 2': [{'a5 == 4': [{'a3 == 2': [1,\n",
      "                                                                                                        {'a4 == 3': [{'a2 == 3': [{'a1 == 3': [1,\n",
      "                                                                                                                                               0]},\n",
      "                                                                                                                                  1]},\n",
      "                                                                                                                     {'a2 == 3': [1,\n",
      "                                                                                                                                  0]}]}]},\n",
      "                                                                                           1]},\n",
      "                                                                              {'a3 == 2': [{'a1 == 3': [0,\n",
      "                                                                                                        {'a2 == 3': [0,\n",
      "                                                                                                                     1]}]},\n",
      "                                                                                           1]}]}]}]}]}]}]}\n"
     ]
    }
   ],
   "source": [
    "pprint(tree)"
   ]
  },
  {
   "cell_type": "code",
   "execution_count": 34,
   "metadata": {},
   "outputs": [
    {
     "name": "stdout",
     "output_type": "stream",
     "text": [
      "{'a4 == 1': [{'a5 == 1': [{'a6 == 2': [{'a3 == 2': [{'a2 == 3': [1, 0]}, 0]},\n",
      "                                       0]},\n",
      "                          {'a1 == 1': [{'a6 == 2': [{'a3 == 2': [1, 0]}, 0]},\n",
      "                                       {'a6 == 2': [{'a3 == 2': [{'a2 == 1': [1,\n",
      "                                                                              0]},\n",
      "                                                                 {'a2 == 1': [0,\n",
      "                                                                              1]}]},\n",
      "                                                    {'a3 == 2': [{'a2 == 1': [0,\n",
      "                                                                              1]},\n",
      "                                                                 0]}]}]}]},\n",
      "             {'a5 == 2': [{'a3 == 2': [{'a2 == 2': [0,\n",
      "                                                    {'a1 == 1': [1,\n",
      "                                                                 {'a2 == 3': [0,\n",
      "                                                                              {'a6 == 2': [0,\n",
      "                                                                                           1]}]}]}]},\n",
      "                                       {'a6 == 2': [1, {'a1 == 1': [0, 1]}]}]},\n",
      "                          {'a2 == 1': [{'a6 == 2': [{'a5 == 3': [{'a3 == 2': [0,\n",
      "                                                                              1]},\n",
      "                                                                 {'a3 == 2': [{'a5 == 4': [{'a1 == 1': [1,\n",
      "                                                                                                        0]},\n",
      "                                                                                           {'a1 == 1': [0,\n",
      "                                                                                                        1]}]},\n",
      "                                                                              {'a5 == 4': [1,\n",
      "                                                                                           0]}]}]},\n",
      "                                                    0]},\n",
      "                                       {'a6 == 2': [{'a1 == 1': [{'a3 == 2': [{'a5 == 1': [1,\n",
      "                                                                                           0]},\n",
      "                                                                              {'a5 == 1': [0,\n",
      "                                                                                           1]}]},\n",
      "                                                                 {'a5 == 1': [1,\n",
      "                                                                              0]}]},\n",
      "                                                    {'a3 == 2': [{'a5 == 3': [{'a1 == 1': [1,\n",
      "                                                                                           0]},\n",
      "                                                                              {'a1 == 1': [{'a5 == 4': [1,\n",
      "                                                                                                        0]},\n",
      "                                                                                           1]}]},\n",
      "                                                                 {'a1 == 1': [0,\n",
      "                                                                              {'a5 == 1': [0,\n",
      "                                                                                           1]}]}]}]}]}]}]}\n"
     ]
    }
   ],
   "source": [
    "pprint(tree2)"
   ]
  },
  {
   "cell_type": "code",
   "execution_count": 35,
   "metadata": {},
   "outputs": [
    {
     "name": "stdout",
     "output_type": "stream",
     "text": [
      "{'a2 == 3': [{'a4 == 1': [{'a3 == 2': [0, {'a1 == 1': [0, 1]}]}, 0]},\n",
      "             {'a5 == 4': [0,\n",
      "                          {'a5 == 3': [{'a3 == 2': [1,\n",
      "                                                    {'a1 == 3': [1,\n",
      "                                                                 {'a6 == 2': [{'a4 == 3': [{'a2 == 2': [{'a1 == 2': [0,\n",
      "                                                                                                                     1]},\n",
      "                                                                                                        1]},\n",
      "                                                                                           1]},\n",
      "                                                                              {'a4 == 1': [{'a2 == 2': [1,\n",
      "                                                                                                        0]},\n",
      "                                                                                           0]}]}]}]},\n",
      "                                       {'a1 == 2': [{'a6 == 2': [1,\n",
      "                                                                 {'a5 == 2': [0,\n",
      "                                                                              1]}]},\n",
      "                                                    1]}]}]}]}\n"
     ]
    }
   ],
   "source": [
    "pprint(tree3)"
   ]
  },
  {
   "cell_type": "markdown",
   "metadata": {},
   "source": [
    "## classification"
   ]
  },
  {
   "cell_type": "code",
   "execution_count": 80,
   "metadata": {},
   "outputs": [
    {
     "data": {
      "text/plain": [
       "class    1\n",
       "a1       1\n",
       "a2       1\n",
       "a3       1\n",
       "a4       3\n",
       "a5       2\n",
       "a6       1\n",
       "Name: 2, dtype: int64"
      ]
     },
     "execution_count": 80,
     "metadata": {},
     "output_type": "execute_result"
    }
   ],
   "source": [
    "\n",
    "example=monk1_train.iloc[2] # first row\n",
    "example"
   ]
  },
  {
   "cell_type": "code",
   "execution_count": 81,
   "metadata": {},
   "outputs": [
    {
     "data": {
      "text/plain": [
       "dict_keys(['a5 == 1'])"
      ]
     },
     "execution_count": 81,
     "metadata": {},
     "output_type": "execute_result"
    }
   ],
   "source": [
    "# list\n",
    "tree.keys()"
   ]
  },
  {
   "cell_type": "code",
   "execution_count": 82,
   "metadata": {},
   "outputs": [
    {
     "data": {
      "text/plain": [
       "'a5 == 1'"
      ]
     },
     "execution_count": 82,
     "metadata": {},
     "output_type": "execute_result"
    }
   ],
   "source": [
    "# get string\n",
    "list(tree.keys())[0]"
   ]
  },
  {
   "cell_type": "code",
   "execution_count": 83,
   "metadata": {},
   "outputs": [
    {
     "data": {
      "text/plain": [
       "'a5'"
      ]
     },
     "execution_count": 83,
     "metadata": {},
     "output_type": "execute_result"
    }
   ],
   "source": [
    "question=list(tree.keys())[0]\n",
    "feature_name,operator,value=question.split(\" \")\n",
    "feature_name"
   ]
  },
  {
   "cell_type": "code",
   "execution_count": 84,
   "metadata": {},
   "outputs": [],
   "source": [
    "def classify_test(test,tree):\n",
    "    question=list(tree.keys())[0]\n",
    "    feature_name,operator,value=question.split(\" \")\n",
    "    \n",
    "    if example[feature_name] == value:\n",
    "        ans=tree[question][0]\n",
    "    else:\n",
    "        ans=tree[question][1]\n",
    "    \n",
    "    # base case\n",
    "    if not isinstance(ans,dict):\n",
    "        return ans\n",
    "    # recursion\n",
    "    else:\n",
    "        residual_tree=ans\n",
    "        return classify_test(example,residual_tree)"
   ]
  },
  {
   "cell_type": "code",
   "execution_count": 86,
   "metadata": {},
   "outputs": [
    {
     "data": {
      "text/plain": [
       "1"
      ]
     },
     "execution_count": 86,
     "metadata": {},
     "output_type": "execute_result"
    }
   ],
   "source": [
    "classify_test(example,tree)"
   ]
  },
  {
   "cell_type": "markdown",
   "metadata": {},
   "source": [
    "## Accuracy"
   ]
  },
  {
   "cell_type": "code",
   "execution_count": 104,
   "metadata": {},
   "outputs": [],
   "source": [
    "def accuracy(df,tree):\n",
    "    df[\"classification\"]=df.apply(classify_test, axis=1,args=(tree,))\n",
    "    df[\"classification_correct\"]=df[\"classification\"]==df[\"class\"]\n",
    "    \n",
    "    accuracy=df[\"classification_correct\"].mean()\n",
    "    return accuracy"
   ]
  },
  {
   "cell_type": "code",
   "execution_count": 106,
   "metadata": {
    "scrolled": true
   },
   "outputs": [
    {
     "data": {
      "text/plain": [
       "0.5"
      ]
     },
     "execution_count": 106,
     "metadata": {},
     "output_type": "execute_result"
    }
   ],
   "source": [
    "accuracy(train_set,tree)"
   ]
  },
  {
   "cell_type": "markdown",
   "metadata": {},
   "source": [
    "# decision tree"
   ]
  },
  {
   "cell_type": "code",
   "execution_count": 108,
   "metadata": {},
   "outputs": [],
   "source": [
    "# train_dfn=pd.read_csv()\n",
    "# test_dfn=pd.read_csv()\n",
    "\n",
    "# tree_clf=decision_tree(train_dfn)\n",
    "# accuracy=accuracy(test_dfn,tree_clf)\n",
    "\n",
    "# pprint(tree_clf)\n",
    "# print(accuracy)"
   ]
  }
 ],
 "metadata": {
  "kernelspec": {
   "display_name": "Python 3",
   "language": "python",
   "name": "python3"
  },
  "language_info": {
   "codemirror_mode": {
    "name": "ipython",
    "version": 3
   },
   "file_extension": ".py",
   "mimetype": "text/x-python",
   "name": "python",
   "nbconvert_exporter": "python",
   "pygments_lexer": "ipython3",
   "version": "3.7.4"
  }
 },
 "nbformat": 4,
 "nbformat_minor": 2
}
