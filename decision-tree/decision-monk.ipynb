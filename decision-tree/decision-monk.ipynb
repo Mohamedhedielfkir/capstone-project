{
 "cells": [
  {
   "cell_type": "code",
   "execution_count": 1,
   "metadata": {},
   "outputs": [],
   "source": [
    "# Topgyal Gurung\n",
    "# Decision Tree Algorithm from scratch on monk dataset\n",
    "import pandas as pd\n",
    "import numpy as np\n",
    "from pprint import pprint"
   ]
  },
  {
   "cell_type": "code",
   "execution_count": 2,
   "metadata": {},
   "outputs": [],
   "source": [
    "# load and prepare dataset\n",
    "# train_set\n",
    "monk1_train=pd.read_csv(\"~/train1.csv\")\n",
    "monk2_train=pd.read_csv(\"~/train2.csv\")\n",
    "monk3_train=pd.read_csv(\"~/train3.csv\")\n",
    "# test_set\n",
    "monk1_test=pd.read_csv(\"~/test1.csv\")\n",
    "monk2_test=pd.read_csv(\"~/test2.csv\")\n",
    "monk3_test=pd.read_csv(\"~/test3.csv\")\n",
    "\n",
    "# monk3_test=pd.read_csv(\"/Users/topgyalgurung/Desktop/monk-dataset/test3.csv\", header=None)"
   ]
  },
  {
   "cell_type": "code",
   "execution_count": 3,
   "metadata": {},
   "outputs": [],
   "source": [
    "# drop Id \n",
    "monk1_train=monk1_train.drop(\"Id\", axis=1)\n",
    "monk2_train=monk2_train.drop(\"Id\",axis=1)\n",
    "monk3_train=monk3_train.drop(\"Id\",axis=1)\n",
    "\n",
    "monk1_test=monk1_test.drop(\"Id\",axis=1)\n",
    "monk2_test=monk2_test.drop(\"Id\",axis=1)\n",
    "monk3_test=monk3_test.drop(\"Id\",axis=1)\n",
    "# monk3_test=monk3_test.drop([7],axis=1)"
   ]
  },
  {
   "cell_type": "code",
   "execution_count": 4,
   "metadata": {},
   "outputs": [
    {
     "data": {
      "text/html": [
       "<div>\n",
       "<style scoped>\n",
       "    .dataframe tbody tr th:only-of-type {\n",
       "        vertical-align: middle;\n",
       "    }\n",
       "\n",
       "    .dataframe tbody tr th {\n",
       "        vertical-align: top;\n",
       "    }\n",
       "\n",
       "    .dataframe thead th {\n",
       "        text-align: right;\n",
       "    }\n",
       "</style>\n",
       "<table border=\"1\" class=\"dataframe\">\n",
       "  <thead>\n",
       "    <tr style=\"text-align: right;\">\n",
       "      <th></th>\n",
       "      <th>class</th>\n",
       "      <th>a1</th>\n",
       "      <th>a2</th>\n",
       "      <th>a3</th>\n",
       "      <th>a4</th>\n",
       "      <th>a5</th>\n",
       "      <th>a6</th>\n",
       "    </tr>\n",
       "  </thead>\n",
       "  <tbody>\n",
       "    <tr>\n",
       "      <td>0</td>\n",
       "      <td>1</td>\n",
       "      <td>1</td>\n",
       "      <td>1</td>\n",
       "      <td>1</td>\n",
       "      <td>1</td>\n",
       "      <td>1</td>\n",
       "      <td>1</td>\n",
       "    </tr>\n",
       "    <tr>\n",
       "      <td>1</td>\n",
       "      <td>1</td>\n",
       "      <td>1</td>\n",
       "      <td>1</td>\n",
       "      <td>1</td>\n",
       "      <td>1</td>\n",
       "      <td>1</td>\n",
       "      <td>2</td>\n",
       "    </tr>\n",
       "  </tbody>\n",
       "</table>\n",
       "</div>"
      ],
      "text/plain": [
       "   class  a1  a2  a3  a4  a5  a6\n",
       "0      1   1   1   1   1   1   1\n",
       "1      1   1   1   1   1   1   2"
      ]
     },
     "execution_count": 4,
     "metadata": {},
     "output_type": "execute_result"
    }
   ],
   "source": [
    "monk1_test.head(2)"
   ]
  },
  {
   "cell_type": "code",
   "execution_count": 5,
   "metadata": {},
   "outputs": [],
   "source": [
    "# dataframe into numpy array\n",
    "monk1_data=monk1_train.values\n",
    "monk2_data=monk2_train.values\n",
    "monk3_data=monk3_train.values"
   ]
  },
  {
   "cell_type": "code",
   "execution_count": 6,
   "metadata": {},
   "outputs": [
    {
     "data": {
      "text/html": [
       "<div>\n",
       "<style scoped>\n",
       "    .dataframe tbody tr th:only-of-type {\n",
       "        vertical-align: middle;\n",
       "    }\n",
       "\n",
       "    .dataframe tbody tr th {\n",
       "        vertical-align: top;\n",
       "    }\n",
       "\n",
       "    .dataframe thead th {\n",
       "        text-align: right;\n",
       "    }\n",
       "</style>\n",
       "<table border=\"1\" class=\"dataframe\">\n",
       "  <thead>\n",
       "    <tr style=\"text-align: right;\">\n",
       "      <th></th>\n",
       "      <th>class</th>\n",
       "      <th>a1</th>\n",
       "      <th>a2</th>\n",
       "      <th>a3</th>\n",
       "      <th>a4</th>\n",
       "      <th>a5</th>\n",
       "      <th>a6</th>\n",
       "    </tr>\n",
       "  </thead>\n",
       "  <tbody>\n",
       "    <tr>\n",
       "      <td>0</td>\n",
       "      <td>1</td>\n",
       "      <td>1</td>\n",
       "      <td>1</td>\n",
       "      <td>1</td>\n",
       "      <td>1</td>\n",
       "      <td>3</td>\n",
       "      <td>1</td>\n",
       "    </tr>\n",
       "    <tr>\n",
       "      <td>1</td>\n",
       "      <td>1</td>\n",
       "      <td>1</td>\n",
       "      <td>1</td>\n",
       "      <td>1</td>\n",
       "      <td>1</td>\n",
       "      <td>3</td>\n",
       "      <td>2</td>\n",
       "    </tr>\n",
       "  </tbody>\n",
       "</table>\n",
       "</div>"
      ],
      "text/plain": [
       "   class  a1  a2  a3  a4  a5  a6\n",
       "0      1   1   1   1   1   3   1\n",
       "1      1   1   1   1   1   3   2"
      ]
     },
     "execution_count": 6,
     "metadata": {},
     "output_type": "execute_result"
    }
   ],
   "source": [
    "# pandas dataframe\n",
    "monk1_train.head(2) # print first 2 rows"
   ]
  },
  {
   "cell_type": "code",
   "execution_count": 7,
   "metadata": {},
   "outputs": [
    {
     "data": {
      "text/plain": [
       "array([[1, 1, 1, 1, 1, 3, 1],\n",
       "       [1, 1, 1, 1, 1, 3, 2]])"
      ]
     },
     "execution_count": 7,
     "metadata": {},
     "output_type": "execute_result"
    }
   ],
   "source": [
    "# numpy 2d array\n",
    "monk1_data[:2]  # print first 2 rows"
   ]
  },
  {
   "cell_type": "code",
   "execution_count": 8,
   "metadata": {},
   "outputs": [
    {
     "data": {
      "text/plain": [
       "array([1, 1, 1, 1, 1, 1, 1, 1, 1, 1, 0, 0, 0, 1, 0, 0, 0, 0, 0, 0, 0, 0,\n",
       "       0, 0, 0, 0, 0, 0, 0, 0, 1, 0, 0, 0, 0, 0, 1, 0, 0, 0, 0, 1, 0, 0,\n",
       "       0, 0, 0, 1, 1, 0, 0, 0, 0, 0, 0, 0, 0, 0, 0, 0, 0, 1, 1, 1, 1, 1,\n",
       "       1, 1, 1, 1, 1, 1, 1, 1, 1, 1, 1, 1, 0, 1, 0, 0, 0, 1, 1, 0, 0, 1,\n",
       "       1, 1, 0, 0, 1, 0, 0, 0, 0, 1, 0, 1, 0, 1, 1, 0, 1, 0, 0, 1, 1, 1,\n",
       "       1, 1, 1, 1, 1, 1, 1, 1, 1, 1, 1, 1, 1, 1])"
      ]
     },
     "execution_count": 8,
     "metadata": {},
     "output_type": "execute_result"
    }
   ],
   "source": [
    "monk1_data[:,0] # print first class data (first column)"
   ]
  },
  {
   "cell_type": "markdown",
   "metadata": {},
   "source": [
    "## HELPER FUNCTIONS"
   ]
  },
  {
   "cell_type": "code",
   "execution_count": 9,
   "metadata": {},
   "outputs": [
    {
     "data": {
      "text/plain": [
       "(array([0, 1]), array([62, 62]))"
      ]
     },
     "execution_count": 9,
     "metadata": {},
     "output_type": "execute_result"
    }
   ],
   "source": [
    "label_column=monk1_data[:,0]   # first column class data\n",
    "np.unique(label_column,return_counts=True) # 0,1"
   ]
  },
  {
   "cell_type": "code",
   "execution_count": 10,
   "metadata": {},
   "outputs": [],
   "source": [
    "unique_classes,counts_unique_classes=np.unique(label_column,return_counts=True)\n",
    "_,counts_unique_classes=np.unique(label_column,return_counts=True)"
   ]
  },
  {
   "cell_type": "code",
   "execution_count": 11,
   "metadata": {},
   "outputs": [
    {
     "name": "stdout",
     "output_type": "stream",
     "text": [
      "[0 1]\n",
      "2\n",
      "[62 62]\n"
     ]
    }
   ],
   "source": [
    "print(unique_classes) \n",
    "print(len(unique_classes))\n",
    "print(counts_unique_classes) # 50-50 "
   ]
  },
  {
   "cell_type": "code",
   "execution_count": 12,
   "metadata": {},
   "outputs": [],
   "source": [
    "# base case \n",
    "def check_purity(data):\n",
    "    label_column=data[:,0]\n",
    "    unique_classes=np.unique(label_column)\n",
    "    \n",
    "    if len(unique_classes)==1:\n",
    "        return True\n",
    "    else:\n",
    "        return False"
   ]
  },
  {
   "cell_type": "code",
   "execution_count": 13,
   "metadata": {},
   "outputs": [
    {
     "data": {
      "text/plain": [
       "False"
      ]
     },
     "execution_count": 13,
     "metadata": {},
     "output_type": "execute_result"
    }
   ],
   "source": [
    "check_purity(monk1_data) # check if monk1 pure( only one class)"
   ]
  },
  {
   "cell_type": "code",
   "execution_count": 14,
   "metadata": {},
   "outputs": [],
   "source": [
    "def classify_data(data):\n",
    "    label_column=data[:,0]\n",
    "    unique_classes,counts_unique_classes=np.unique(label_column,return_counts=True) # [0 1] , [62 62]\n",
    "    index=counts_unique_classes.argmax()  # use max class as index \n",
    "    classification=unique_classes[index]\n",
    "    return classification"
   ]
  },
  {
   "cell_type": "markdown",
   "metadata": {},
   "source": [
    "### POTENTIAL SPLITS"
   ]
  },
  {
   "cell_type": "code",
   "execution_count": 15,
   "metadata": {},
   "outputs": [
    {
     "data": {
      "text/plain": [
       "(124, 7)"
      ]
     },
     "execution_count": 15,
     "metadata": {},
     "output_type": "execute_result"
    }
   ],
   "source": [
    "monk1_data.shape  # 124 rows, 7 columns"
   ]
  },
  {
   "cell_type": "code",
   "execution_count": 16,
   "metadata": {},
   "outputs": [
    {
     "name": "stdout",
     "output_type": "stream",
     "text": [
      "a- 1 values= [1 2 3]\n",
      "counts= [45 42 37]\n",
      "\n",
      "a- 2 values= [1 2 3]\n",
      "counts= [35 42 47]\n",
      "\n",
      "a- 3 values= [1 2]\n",
      "counts= [65 59]\n",
      "\n",
      "a- 4 values= [1 2 3]\n",
      "counts= [42 39 43]\n",
      "\n",
      "a- 5 values= [1 2 3 4]\n",
      "counts= [29 31 30 34]\n",
      "\n",
      "a- 6 values= [1 2]\n",
      "counts= [56 68]\n",
      "\n"
     ]
    }
   ],
   "source": [
    "# test with monk1_data \n",
    "_,n_columns=monk1_train.shape\n",
    "for column_i in range(1,n_columns):  #iterate over column (1,7)\n",
    "    values=monk1_data[:,column_i]\n",
    "    unique_values,unique_value_counts=np.unique(values,return_counts=True)\n",
    "    if column_i!=0:\n",
    "        print(\"a-\",column_i,\"values=\", unique_values) \n",
    "        print(\"counts=\", unique_value_counts)\n",
    "        print(\"\")"
   ]
  },
  {
   "cell_type": "code",
   "execution_count": 17,
   "metadata": {},
   "outputs": [],
   "source": [
    "def get_potential_splits(data):\n",
    "    potential_splits={}\n",
    "    _,n_columns=data.shape  #iterate over column\n",
    "    for column_i in range(1,n_columns):  # column index exclude class\n",
    "        values = data[:, column_i]\n",
    "        unique_values = np.unique(values)\n",
    "        potential_splits[column_i]=unique_values\n",
    "    return potential_splits  "
   ]
  },
  {
   "cell_type": "code",
   "execution_count": 18,
   "metadata": {},
   "outputs": [
    {
     "data": {
      "text/plain": [
       "{1: array([1, 2, 3]),\n",
       " 2: array([1, 2, 3]),\n",
       " 3: array([1, 2]),\n",
       " 4: array([1, 2, 3]),\n",
       " 5: array([1, 2, 3, 4]),\n",
       " 6: array([1, 2])}"
      ]
     },
     "execution_count": 18,
     "metadata": {},
     "output_type": "execute_result"
    }
   ],
   "source": [
    "get_potential_splits(monk1_data)"
   ]
  },
  {
   "cell_type": "markdown",
   "metadata": {},
   "source": [
    "# SPLIT DATA"
   ]
  },
  {
   "cell_type": "code",
   "execution_count": 19,
   "metadata": {},
   "outputs": [],
   "source": [
    "# split data to data equal if equal and data_not for not equal\n",
    "def split_data(data,split_column,split_value):\n",
    "    #random.shuffle(data)\n",
    "    split_column_values=data[:,split_column]\n",
    "    true_data=data[split_column_values==split_value]\n",
    "    false_data=data[split_column_values!=split_value]\n",
    "    return true_data,false_data  "
   ]
  },
  {
   "cell_type": "code",
   "execution_count": 20,
   "metadata": {},
   "outputs": [],
   "source": [
    "# monk1 split data a1==1?\n",
    "true_data,false_data=split_data(monk1_data,1,1)"
   ]
  },
  {
   "cell_type": "code",
   "execution_count": 21,
   "metadata": {},
   "outputs": [
    {
     "data": {
      "text/plain": [
       "124"
      ]
     },
     "execution_count": 21,
     "metadata": {},
     "output_type": "execute_result"
    }
   ],
   "source": [
    "len(true_data) +len(false_data)  # should be 124 "
   ]
  },
  {
   "cell_type": "code",
   "execution_count": 22,
   "metadata": {},
   "outputs": [
    {
     "data": {
      "text/plain": [
       "array([[1, 1, 1, 1, 1, 3, 1],\n",
       "       [1, 1, 1, 1, 1, 3, 2],\n",
       "       [1, 1, 1, 1, 3, 2, 1],\n",
       "       [1, 1, 1, 1, 3, 3, 2]])"
      ]
     },
     "execution_count": 22,
     "metadata": {},
     "output_type": "execute_result"
    }
   ],
   "source": [
    "true_data[:4]"
   ]
  },
  {
   "cell_type": "code",
   "execution_count": 23,
   "metadata": {},
   "outputs": [
    {
     "data": {
      "text/plain": [
       "array([[0, 2, 1, 1, 1, 3, 1],\n",
       "       [0, 2, 1, 1, 1, 3, 2],\n",
       "       [1, 2, 1, 1, 2, 1, 1],\n",
       "       [1, 2, 1, 1, 2, 1, 2]])"
      ]
     },
     "execution_count": 23,
     "metadata": {},
     "output_type": "execute_result"
    }
   ],
   "source": [
    "false_data[:4]"
   ]
  },
  {
   "cell_type": "markdown",
   "metadata": {},
   "source": [
    "# entropy "
   ]
  },
  {
   "cell_type": "code",
   "execution_count": 24,
   "metadata": {},
   "outputs": [],
   "source": [
    "label_column=monk1_data[:,0] # first column=class"
   ]
  },
  {
   "cell_type": "code",
   "execution_count": 25,
   "metadata": {},
   "outputs": [
    {
     "name": "stdout",
     "output_type": "stream",
     "text": [
      "[62 62]\n"
     ]
    },
    {
     "data": {
      "text/plain": [
       "array([0.5, 0.5])"
      ]
     },
     "execution_count": 25,
     "metadata": {},
     "output_type": "execute_result"
    }
   ],
   "source": [
    "_,counts=np.unique(label_column,return_counts=True)\n",
    "print(counts)\n",
    "counts.sum()\n",
    "counts/counts.sum()"
   ]
  },
  {
   "cell_type": "code",
   "execution_count": 26,
   "metadata": {},
   "outputs": [],
   "source": [
    "# entropy: measure of uncertainty\n",
    "\n",
    "def entropy(data):\n",
    "    label_column=data[:,0]\n",
    "    _,counts=np.unique(label_column,return_counts=True)\n",
    "    \n",
    "    probability=counts/counts.sum()\n",
    "    entropy=sum(probability*-np.log2(probability))\n",
    "    return entropy"
   ]
  },
  {
   "cell_type": "code",
   "execution_count": 27,
   "metadata": {},
   "outputs": [
    {
     "data": {
      "text/plain": [
       "1.0"
      ]
     },
     "execution_count": 27,
     "metadata": {},
     "output_type": "execute_result"
    }
   ],
   "source": [
    "entropy(monk1_data)"
   ]
  },
  {
   "cell_type": "code",
   "execution_count": 28,
   "metadata": {},
   "outputs": [
    {
     "data": {
      "text/plain": [
       "0.957117428264771"
      ]
     },
     "execution_count": 28,
     "metadata": {},
     "output_type": "execute_result"
    }
   ],
   "source": [
    "entropy(monk2_data)"
   ]
  },
  {
   "cell_type": "code",
   "execution_count": 29,
   "metadata": {},
   "outputs": [
    {
     "data": {
      "text/plain": [
       "0.999806132804711"
      ]
     },
     "execution_count": 29,
     "metadata": {},
     "output_type": "execute_result"
    }
   ],
   "source": [
    "entropy(monk3_data)"
   ]
  },
  {
   "cell_type": "code",
   "execution_count": 30,
   "metadata": {},
   "outputs": [],
   "source": [
    "def overall_entropy(true_data, false_data):\n",
    "    n=len(true_data)+len(false_data)\n",
    "    p_true_data=len(true_data)/n\n",
    "    p_false_data=len(false_data)/n\n",
    "    overall_entropy=(p_true_data * entropy(true_data) + p_false_data * entropy(false_data))\n",
    "    return overall_entropy"
   ]
  },
  {
   "cell_type": "code",
   "execution_count": 31,
   "metadata": {},
   "outputs": [
    {
     "data": {
      "text/plain": [
       "0.9402478084953086"
      ]
     },
     "execution_count": 31,
     "metadata": {},
     "output_type": "execute_result"
    }
   ],
   "source": [
    "overall_entropy(true_data,false_data)"
   ]
  },
  {
   "cell_type": "code",
   "execution_count": 32,
   "metadata": {},
   "outputs": [],
   "source": [
    "# information gain (S)= entropy(S)- weighted entropy\n",
    "# weighted entropy=[(weighted average * entropy(each feature))]\n",
    "# split_attr takes name of attribute to calculate infogain for\n",
    "\n",
    "# def info_gain(dat_below, data_above, uncertainty):\n",
    "#     p = float(len(true_data)) /(len(true_data)+len(false_data))\n",
    "#     return uncertainty - p * entropy(true_data) -(1 - p) * entropy(false_data)"
   ]
  },
  {
   "cell_type": "code",
   "execution_count": 33,
   "metadata": {},
   "outputs": [
    {
     "data": {
      "text/plain": [
       "124"
      ]
     },
     "execution_count": 33,
     "metadata": {},
     "output_type": "execute_result"
    }
   ],
   "source": [
    "len(monk1_data)"
   ]
  },
  {
   "cell_type": "code",
   "execution_count": 34,
   "metadata": {},
   "outputs": [],
   "source": [
    "def info_gain(data, true_data, false_data):\n",
    "    p=len(true_data)/len(data)\n",
    "    info_gain=entropy(data) - p* entropy(true_data)-(1-p) *entropy(false_data)\n",
    "    return info_gain"
   ]
  },
  {
   "cell_type": "code",
   "execution_count": 35,
   "metadata": {},
   "outputs": [
    {
     "data": {
      "text/plain": [
       "0.059752191504691354"
      ]
     },
     "execution_count": 35,
     "metadata": {},
     "output_type": "execute_result"
    }
   ],
   "source": [
    "# test \n",
    "true_data,false_data=split_data(monk1_data,1,1) # a1=1\n",
    "info_gain(monk1_data,true_data,false_data)"
   ]
  },
  {
   "cell_type": "code",
   "execution_count": 36,
   "metadata": {},
   "outputs": [
    {
     "data": {
      "text/plain": [
       "0.0008380397143500362"
      ]
     },
     "execution_count": 36,
     "metadata": {},
     "output_type": "execute_result"
    }
   ],
   "source": [
    "true_data,false_data=split_data(monk1_data,1,2) # a1=2\n",
    "info_gain(monk1_data,true_data,false_data)"
   ]
  },
  {
   "cell_type": "code",
   "execution_count": 37,
   "metadata": {},
   "outputs": [
    {
     "data": {
      "text/plain": [
       "0.05153479275836825"
      ]
     },
     "execution_count": 37,
     "metadata": {},
     "output_type": "execute_result"
    }
   ],
   "source": [
    "true_data,false_data=split_data(monk1_data,1,3) #a1=3\n",
    "info_gain(monk1_data,true_data,false_data)"
   ]
  },
  {
   "cell_type": "code",
   "execution_count": 38,
   "metadata": {},
   "outputs": [
    {
     "data": {
      "text/plain": [
       "0.005804416680231128"
      ]
     },
     "execution_count": 38,
     "metadata": {},
     "output_type": "execute_result"
    }
   ],
   "source": [
    "true_data,false_data=split_data(monk1_data,2,1) #a2=1\n",
    "info_gain(monk1_data,true_data,false_data)"
   ]
  },
  {
   "cell_type": "code",
   "execution_count": 39,
   "metadata": {},
   "outputs": [
    {
     "data": {
      "text/plain": [
       "0.0008380397143500362"
      ]
     },
     "execution_count": 39,
     "metadata": {},
     "output_type": "execute_result"
    }
   ],
   "source": [
    "true_data,false_data=split_data(monk1_data,2,2) #a2=2\n",
    "info_gain(monk1_data,true_data,false_data)"
   ]
  },
  {
   "cell_type": "code",
   "execution_count": 40,
   "metadata": {},
   "outputs": [
    {
     "data": {
      "text/plain": [
       "0.0017948307725639268"
      ]
     },
     "execution_count": 40,
     "metadata": {},
     "output_type": "execute_result"
    }
   ],
   "source": [
    "true_data,false_data=split_data(monk1_data,2,3) #a2=3\n",
    "info_gain(monk1_data,true_data,false_data)"
   ]
  },
  {
   "cell_type": "markdown",
   "metadata": {},
   "source": [
    "# Determine best split"
   ]
  },
  {
   "cell_type": "code",
   "execution_count": 41,
   "metadata": {},
   "outputs": [
    {
     "data": {
      "text/plain": [
       "{1: array([1, 2, 3]),\n",
       " 2: array([1, 2, 3]),\n",
       " 3: array([1, 2]),\n",
       " 4: array([1, 2, 3]),\n",
       " 5: array([1, 2, 3, 4]),\n",
       " 6: array([1, 2])}"
      ]
     },
     "execution_count": 41,
     "metadata": {},
     "output_type": "execute_result"
    }
   ],
   "source": [
    "get_potential_splits(monk1_data)"
   ]
  },
  {
   "cell_type": "code",
   "execution_count": 42,
   "metadata": {},
   "outputs": [],
   "source": [
    "# best_split\n",
    "def best_split(data,potential_splits):\n",
    "    temp_entropy=999  #arbitary large num\n",
    "    for column_index in potential_splits:\n",
    "        for value in potential_splits[column_index]:\n",
    "            true_data,false_data=split_data(data,split_column=column_index,split_value=value)\n",
    "            #info_gain\n",
    "            current_overall_entropy=overall_entropy(true_data,false_data)\n",
    "            #print(current_overall_entropy)\n",
    "            if current_overall_entropy<=temp_entropy:\n",
    "                temp_entropy=current_overall_entropy\n",
    "                best_split_column=column_index\n",
    "                best_split_value=value\n",
    "    return best_split_column, best_split_value"
   ]
  },
  {
   "cell_type": "code",
   "execution_count": 43,
   "metadata": {},
   "outputs": [],
   "source": [
    "potential_splits=get_potential_splits(monk1_data)"
   ]
  },
  {
   "cell_type": "code",
   "execution_count": 44,
   "metadata": {},
   "outputs": [
    {
     "name": "stdout",
     "output_type": "stream",
     "text": [
      "a val curr_over_entropy\n",
      "1   1   0.9402478084953086\n",
      "1   2   0.9991619602856499\n",
      "1   3   0.9484652072416317\n",
      "2   1   0.9941955833197689\n",
      "2   2   0.9991619602856499\n",
      "2   3   0.9982051692274361\n",
      "3   1   0.9952924333827027\n",
      "3   2   0.9952924333827027\n",
      "4   1   0.9789033341385207\n",
      "4   2   0.9822543194854161\n",
      "4   3   0.9997928807470515\n",
      "5   1   0.7137992387792323\n",
      "5   2   0.9795042028631318\n",
      "5   3   0.9834727618772467\n",
      "5   4   0.9654876088845705\n",
      "6   1   0.999242144284136\n",
      "6   2   0.999242144284136\n"
     ]
    }
   ],
   "source": [
    "print(\"a\",\"val\",\"curr_over_entropy\")\n",
    "for column_index in potential_splits:\n",
    "        for value in potential_splits[column_index]:\n",
    "            data_below,data_above=split_data(monk1_data,split_column=column_index,split_value=value)\n",
    "            current_overall_entropy=overall_entropy(data_below,data_above)\n",
    "            print(column_index,\" \", value,\" \", current_overall_entropy)"
   ]
  },
  {
   "cell_type": "markdown",
   "metadata": {},
   "source": [
    "# representation of decision tree\n",
    "sub_tree={question:[1,2,3,4]} # depends on attribute"
   ]
  },
  {
   "cell_type": "code",
   "execution_count": 45,
   "metadata": {},
   "outputs": [],
   "source": [
    "potential_splits=get_potential_splits(monk1_data)"
   ]
  },
  {
   "cell_type": "code",
   "execution_count": 46,
   "metadata": {},
   "outputs": [
    {
     "data": {
      "text/plain": [
       "(5, 1)"
      ]
     },
     "execution_count": 46,
     "metadata": {},
     "output_type": "execute_result"
    }
   ],
   "source": [
    "best_split(monk1_data,potential_splits) # a5 on node"
   ]
  },
  {
   "cell_type": "code",
   "execution_count": 83,
   "metadata": {},
   "outputs": [
    {
     "data": {
      "text/plain": [
       "(4, 1)"
      ]
     },
     "execution_count": 83,
     "metadata": {},
     "output_type": "execute_result"
    }
   ],
   "source": [
    "best_split(monk2_data,potential_splits) #a4 supposed to be a5"
   ]
  },
  {
   "cell_type": "code",
   "execution_count": 84,
   "metadata": {},
   "outputs": [
    {
     "data": {
      "text/plain": [
       "(2, 3)"
      ]
     },
     "execution_count": 84,
     "metadata": {},
     "output_type": "execute_result"
    }
   ],
   "source": [
    "best_split(monk3_data,potential_splits)  # a2 "
   ]
  },
  {
   "cell_type": "code",
   "execution_count": 47,
   "metadata": {},
   "outputs": [],
   "source": [
    "potential_splits=get_potential_splits(monk1_data)\n",
    "split_column,split_value=best_split(monk1_data,potential_splits)\n",
    "true_data,false_data=split_data(monk1_data,split_column,split_value)"
   ]
  },
  {
   "cell_type": "code",
   "execution_count": 48,
   "metadata": {},
   "outputs": [],
   "source": [
    "# recursive decision_tree algorithm\n",
    "def decision_tree(train_set,counter=0):\n",
    "    if counter==0:\n",
    "        global column_headers\n",
    "        column_headers=train_set.columns\n",
    "        data=train_set.values  # numpy array\n",
    "    else:\n",
    "        data= train_set   # pandas dataframe\n",
    "    \n",
    "    # base case\n",
    "    if check_purity(data):\n",
    "        classification=classify_data(data)\n",
    "        return classification\n",
    "    # recursive\n",
    "    else:\n",
    "        counter+=1\n",
    "        # run helper functions\n",
    "        potential_splits=get_potential_splits(data)\n",
    "        split_column,split_value=best_split(data,potential_splits)\n",
    "        true_data,false_data=split_data(data,split_column,split_value)\n",
    "\n",
    "        # sub_tree\n",
    "        feature_name=column_headers[split_column]\n",
    "        question=\"{} == {}\".format(feature_name,split_value)\n",
    "        sub_tree={question:[]} #empty list\n",
    "        # find ans (recursive part)\n",
    "        yes_ans=decision_tree(true_data,counter)\n",
    "        no_ans=decision_tree(false_data,counter)\n",
    "        \n",
    "        if yes_ans==no_ans:\n",
    "            sub_tree=yes_ans\n",
    "        else:\n",
    "            sub_tree[question].append(yes_ans)\n",
    "            sub_tree[question].append(no_ans)\n",
    "\n",
    "        return sub_tree"
   ]
  },
  {
   "cell_type": "code",
   "execution_count": 49,
   "metadata": {},
   "outputs": [],
   "source": [
    "tree=decision_tree(monk1_train)"
   ]
  },
  {
   "cell_type": "code",
   "execution_count": 50,
   "metadata": {},
   "outputs": [],
   "source": [
    "tree2=decision_tree(monk2_train)"
   ]
  },
  {
   "cell_type": "code",
   "execution_count": 51,
   "metadata": {},
   "outputs": [],
   "source": [
    "tree3=decision_tree(monk3_train)"
   ]
  },
  {
   "cell_type": "code",
   "execution_count": 52,
   "metadata": {},
   "outputs": [
    {
     "name": "stdout",
     "output_type": "stream",
     "text": [
      "{'a5 == 1': [1,\n",
      "             {'a1 == 1': [{'a2 == 1': [1, 0]},\n",
      "                          {'a2 == 1': [0,\n",
      "                                       {'a5 == 3': [{'a2 == 3': [{'a1 == 3': [1,\n",
      "                                                                              0]},\n",
      "                                                                 {'a1 == 3': [0,\n",
      "                                                                              1]}]},\n",
      "                                                    {'a4 == 1': [{'a6 == 2': [{'a3 == 2': [1,\n",
      "                                                                                           {'a5 == 4': [{'a2 == 3': [1,\n",
      "                                                                                                                     0]},\n",
      "                                                                                                        1]}]},\n",
      "                                                                              1]},\n",
      "                                                                 {'a6 == 2': [{'a5 == 4': [{'a3 == 2': [1,\n",
      "                                                                                                        {'a4 == 3': [{'a2 == 3': [{'a1 == 3': [1,\n",
      "                                                                                                                                               0]},\n",
      "                                                                                                                                  1]},\n",
      "                                                                                                                     {'a2 == 3': [1,\n",
      "                                                                                                                                  0]}]}]},\n",
      "                                                                                           1]},\n",
      "                                                                              {'a3 == 2': [{'a1 == 3': [0,\n",
      "                                                                                                        {'a2 == 3': [0,\n",
      "                                                                                                                     1]}]},\n",
      "                                                                                           1]}]}]}]}]}]}]}\n"
     ]
    }
   ],
   "source": [
    "pprint(tree)"
   ]
  },
  {
   "cell_type": "code",
   "execution_count": 53,
   "metadata": {},
   "outputs": [
    {
     "name": "stdout",
     "output_type": "stream",
     "text": [
      "{'a4 == 1': [{'a5 == 1': [{'a6 == 2': [{'a3 == 2': [{'a2 == 3': [1, 0]}, 0]},\n",
      "                                       0]},\n",
      "                          {'a1 == 1': [{'a6 == 2': [{'a3 == 2': [1, 0]}, 0]},\n",
      "                                       {'a6 == 2': [{'a3 == 2': [{'a2 == 1': [1,\n",
      "                                                                              0]},\n",
      "                                                                 {'a2 == 1': [0,\n",
      "                                                                              1]}]},\n",
      "                                                    {'a3 == 2': [{'a2 == 1': [0,\n",
      "                                                                              1]},\n",
      "                                                                 0]}]}]}]},\n",
      "             {'a5 == 2': [{'a3 == 2': [{'a2 == 2': [0,\n",
      "                                                    {'a1 == 1': [1,\n",
      "                                                                 {'a2 == 3': [0,\n",
      "                                                                              {'a6 == 2': [0,\n",
      "                                                                                           1]}]}]}]},\n",
      "                                       {'a6 == 2': [1, {'a1 == 1': [0, 1]}]}]},\n",
      "                          {'a2 == 1': [{'a6 == 2': [{'a5 == 3': [{'a3 == 2': [0,\n",
      "                                                                              1]},\n",
      "                                                                 {'a3 == 2': [{'a5 == 4': [{'a1 == 1': [1,\n",
      "                                                                                                        0]},\n",
      "                                                                                           {'a1 == 1': [0,\n",
      "                                                                                                        1]}]},\n",
      "                                                                              {'a5 == 4': [1,\n",
      "                                                                                           0]}]}]},\n",
      "                                                    0]},\n",
      "                                       {'a6 == 2': [{'a1 == 1': [{'a3 == 2': [{'a5 == 1': [1,\n",
      "                                                                                           0]},\n",
      "                                                                              {'a5 == 1': [0,\n",
      "                                                                                           1]}]},\n",
      "                                                                 {'a5 == 1': [1,\n",
      "                                                                              0]}]},\n",
      "                                                    {'a3 == 2': [{'a5 == 3': [{'a1 == 1': [1,\n",
      "                                                                                           0]},\n",
      "                                                                              {'a1 == 1': [{'a5 == 4': [1,\n",
      "                                                                                                        0]},\n",
      "                                                                                           1]}]},\n",
      "                                                                 {'a1 == 1': [0,\n",
      "                                                                              {'a5 == 1': [0,\n",
      "                                                                                           1]}]}]}]}]}]}]}\n"
     ]
    }
   ],
   "source": [
    "pprint(tree2)"
   ]
  },
  {
   "cell_type": "code",
   "execution_count": 54,
   "metadata": {
    "scrolled": true
   },
   "outputs": [
    {
     "name": "stdout",
     "output_type": "stream",
     "text": [
      "{'a2 == 3': [{'a4 == 1': [{'a3 == 2': [0, {'a1 == 1': [0, 1]}]}, 0]},\n",
      "             {'a5 == 4': [0,\n",
      "                          {'a5 == 3': [{'a3 == 2': [1,\n",
      "                                                    {'a1 == 3': [1,\n",
      "                                                                 {'a6 == 2': [{'a4 == 3': [{'a2 == 2': [{'a1 == 2': [0,\n",
      "                                                                                                                     1]},\n",
      "                                                                                                        1]},\n",
      "                                                                                           1]},\n",
      "                                                                              {'a4 == 1': [{'a2 == 2': [1,\n",
      "                                                                                                        0]},\n",
      "                                                                                           0]}]}]}]},\n",
      "                                       {'a1 == 2': [{'a6 == 2': [1,\n",
      "                                                                 {'a5 == 2': [0,\n",
      "                                                                              1]}]},\n",
      "                                                    1]}]}]}]}\n"
     ]
    }
   ],
   "source": [
    "pprint(tree3)"
   ]
  },
  {
   "cell_type": "code",
   "execution_count": 55,
   "metadata": {},
   "outputs": [],
   "source": [
    "# give accuracy for each tree"
   ]
  },
  {
   "cell_type": "markdown",
   "metadata": {},
   "source": [
    "## classification"
   ]
  },
  {
   "cell_type": "code",
   "execution_count": 56,
   "metadata": {},
   "outputs": [
    {
     "data": {
      "text/plain": [
       "class    1\n",
       "a1       1\n",
       "a2       1\n",
       "a3       1\n",
       "a4       1\n",
       "a5       1\n",
       "a6       1\n",
       "Name: 0, dtype: int64"
      ]
     },
     "execution_count": 56,
     "metadata": {},
     "output_type": "execute_result"
    }
   ],
   "source": [
    "# just use row first for eg\n",
    "example=monk1_test.iloc[0] # first row\n",
    "example"
   ]
  },
  {
   "cell_type": "code",
   "execution_count": 57,
   "metadata": {},
   "outputs": [
    {
     "data": {
      "text/plain": [
       "class    0\n",
       "a1       1\n",
       "a2       2\n",
       "a3       1\n",
       "a4       1\n",
       "a5       2\n",
       "a6       2\n",
       "Name: 51, dtype: int64"
      ]
     },
     "execution_count": 57,
     "metadata": {},
     "output_type": "execute_result"
    }
   ],
   "source": [
    "example2=monk1_test.iloc[51] \n",
    "example2"
   ]
  },
  {
   "cell_type": "code",
   "execution_count": 58,
   "metadata": {},
   "outputs": [
    {
     "data": {
      "text/plain": [
       "dict_keys(['a5 == 1'])"
      ]
     },
     "execution_count": 58,
     "metadata": {},
     "output_type": "execute_result"
    }
   ],
   "source": [
    "# list\n",
    "tree.keys()"
   ]
  },
  {
   "cell_type": "code",
   "execution_count": 59,
   "metadata": {},
   "outputs": [
    {
     "data": {
      "text/plain": [
       "'a5 == 1'"
      ]
     },
     "execution_count": 59,
     "metadata": {},
     "output_type": "execute_result"
    }
   ],
   "source": [
    "# get string\n",
    "list(tree.keys())[0]"
   ]
  },
  {
   "cell_type": "code",
   "execution_count": 60,
   "metadata": {},
   "outputs": [
    {
     "data": {
      "text/plain": [
       "'a5'"
      ]
     },
     "execution_count": 60,
     "metadata": {},
     "output_type": "execute_result"
    }
   ],
   "source": [
    "question=list(tree.keys())[0]\n",
    "feature_name,operator,value=question.split(\" \")\n",
    "feature_name"
   ]
  },
  {
   "cell_type": "code",
   "execution_count": 61,
   "metadata": {},
   "outputs": [],
   "source": [
    "def classify_test(example,tree):\n",
    "    question=list(tree.keys())[0]\n",
    "    feature_name,operator,value=question.split(\" \")\n",
    "    \n",
    "    if str(example[feature_name])== value:\n",
    "        ans=tree[question][0]\n",
    "    else:\n",
    "        ans=tree[question][1]\n",
    "    # base case\n",
    "    if not isinstance(ans,dict):\n",
    "        return ans\n",
    "    \n",
    "    # recursion\n",
    "    else:\n",
    "        residual_tree=ans\n",
    "        return classify_test(example,residual_tree)"
   ]
  },
  {
   "cell_type": "code",
   "execution_count": 62,
   "metadata": {},
   "outputs": [],
   "source": [
    "# def prune(tree):"
   ]
  },
  {
   "cell_type": "code",
   "execution_count": 63,
   "metadata": {},
   "outputs": [
    {
     "data": {
      "text/plain": [
       "1"
      ]
     },
     "execution_count": 63,
     "metadata": {},
     "output_type": "execute_result"
    }
   ],
   "source": [
    "classify_test(example,tree)"
   ]
  },
  {
   "cell_type": "code",
   "execution_count": 64,
   "metadata": {},
   "outputs": [
    {
     "data": {
      "text/plain": [
       "0"
      ]
     },
     "execution_count": 64,
     "metadata": {},
     "output_type": "execute_result"
    }
   ],
   "source": [
    "classify_test(example2,tree)"
   ]
  },
  {
   "cell_type": "code",
   "execution_count": 65,
   "metadata": {},
   "outputs": [
    {
     "data": {
      "text/plain": [
       "1"
      ]
     },
     "execution_count": 65,
     "metadata": {},
     "output_type": "execute_result"
    }
   ],
   "source": [
    "classify_test(monk1_train,tree)"
   ]
  },
  {
   "cell_type": "code",
   "execution_count": 66,
   "metadata": {},
   "outputs": [
    {
     "data": {
      "text/plain": [
       "1"
      ]
     },
     "execution_count": 66,
     "metadata": {},
     "output_type": "execute_result"
    }
   ],
   "source": [
    "classify_test(monk1_test,tree)"
   ]
  },
  {
   "cell_type": "code",
   "execution_count": 67,
   "metadata": {},
   "outputs": [
    {
     "data": {
      "text/plain": [
       "1"
      ]
     },
     "execution_count": 67,
     "metadata": {},
     "output_type": "execute_result"
    }
   ],
   "source": [
    "classify_test(monk2_train,tree2)"
   ]
  },
  {
   "cell_type": "code",
   "execution_count": 68,
   "metadata": {},
   "outputs": [
    {
     "data": {
      "text/plain": [
       "1"
      ]
     },
     "execution_count": 68,
     "metadata": {},
     "output_type": "execute_result"
    }
   ],
   "source": [
    "classify_test(monk2_test,tree2)"
   ]
  },
  {
   "cell_type": "code",
   "execution_count": 69,
   "metadata": {},
   "outputs": [
    {
     "data": {
      "text/plain": [
       "1"
      ]
     },
     "execution_count": 69,
     "metadata": {},
     "output_type": "execute_result"
    }
   ],
   "source": [
    "classify_test(monk2_test,tree3)"
   ]
  },
  {
   "cell_type": "code",
   "execution_count": 70,
   "metadata": {},
   "outputs": [
    {
     "data": {
      "text/plain": [
       "1"
      ]
     },
     "execution_count": 70,
     "metadata": {},
     "output_type": "execute_result"
    }
   ],
   "source": [
    "classify_test(monk3_test,tree3)"
   ]
  },
  {
   "cell_type": "markdown",
   "metadata": {},
   "source": [
    "## Accuracy"
   ]
  },
  {
   "cell_type": "code",
   "execution_count": 71,
   "metadata": {},
   "outputs": [
    {
     "data": {
      "text/plain": [
       "0      1\n",
       "1      1\n",
       "2      1\n",
       "3      1\n",
       "4      1\n",
       "      ..\n",
       "119    1\n",
       "120    1\n",
       "121    1\n",
       "122    1\n",
       "123    1\n",
       "Length: 124, dtype: int64"
      ]
     },
     "execution_count": 71,
     "metadata": {},
     "output_type": "execute_result"
    }
   ],
   "source": [
    "monk1_train.apply(classify_test,args=(tree,),axis=1)"
   ]
  },
  {
   "cell_type": "code",
   "execution_count": 72,
   "metadata": {},
   "outputs": [],
   "source": [
    "monk1_train[\"classification\"]=monk1_train.apply(classify_test,args=(tree,),axis=1)"
   ]
  },
  {
   "cell_type": "code",
   "execution_count": 73,
   "metadata": {},
   "outputs": [
    {
     "data": {
      "text/plain": [
       "0      True\n",
       "1      True\n",
       "2      True\n",
       "3      True\n",
       "4      True\n",
       "       ... \n",
       "119    True\n",
       "120    True\n",
       "121    True\n",
       "122    True\n",
       "123    True\n",
       "Length: 124, dtype: bool"
      ]
     },
     "execution_count": 73,
     "metadata": {},
     "output_type": "execute_result"
    }
   ],
   "source": [
    "monk1_train[\"classification\"]==monk1_train[\"class\"]"
   ]
  },
  {
   "cell_type": "code",
   "execution_count": 74,
   "metadata": {},
   "outputs": [],
   "source": [
    "def accuracy(df,tree):\n",
    "    df[\"classification\"]=df.apply(classify_test, args=(tree,),axis=1)\n",
    "    df[\"classification_correct\"]=df[\"classification\"]==df[\"class\"]\n",
    "    \n",
    "    accuracy=df[\"classification_correct\"].mean()\n",
    "    return accuracy"
   ]
  },
  {
   "cell_type": "code",
   "execution_count": 75,
   "metadata": {},
   "outputs": [
    {
     "data": {
      "text/plain": [
       "1.0"
      ]
     },
     "execution_count": 75,
     "metadata": {},
     "output_type": "execute_result"
    }
   ],
   "source": [
    "accuracy(monk1_train,tree)"
   ]
  },
  {
   "cell_type": "code",
   "execution_count": 76,
   "metadata": {
    "scrolled": true
   },
   "outputs": [
    {
     "data": {
      "text/plain": [
       "0.9004629629629629"
      ]
     },
     "execution_count": 76,
     "metadata": {},
     "output_type": "execute_result"
    }
   ],
   "source": [
    "accuracy(monk1_test,tree)"
   ]
  },
  {
   "cell_type": "code",
   "execution_count": 77,
   "metadata": {},
   "outputs": [
    {
     "data": {
      "text/plain": [
       "1.0"
      ]
     },
     "execution_count": 77,
     "metadata": {},
     "output_type": "execute_result"
    }
   ],
   "source": [
    "accuracy(monk2_train,tree2)"
   ]
  },
  {
   "cell_type": "code",
   "execution_count": 78,
   "metadata": {},
   "outputs": [
    {
     "data": {
      "text/plain": [
       "0.8703703703703703"
      ]
     },
     "execution_count": 78,
     "metadata": {},
     "output_type": "execute_result"
    }
   ],
   "source": [
    "accuracy(monk2_test,tree2)"
   ]
  },
  {
   "cell_type": "code",
   "execution_count": 79,
   "metadata": {},
   "outputs": [
    {
     "data": {
      "text/plain": [
       "1.0"
      ]
     },
     "execution_count": 79,
     "metadata": {},
     "output_type": "execute_result"
    }
   ],
   "source": [
    "accuracy(monk3_train,tree3)"
   ]
  },
  {
   "cell_type": "code",
   "execution_count": 80,
   "metadata": {},
   "outputs": [
    {
     "data": {
      "text/plain": [
       "0.9004629629629629"
      ]
     },
     "execution_count": 80,
     "metadata": {},
     "output_type": "execute_result"
    }
   ],
   "source": [
    "accuracy(monk3_test,tree3)"
   ]
  },
  {
   "cell_type": "markdown",
   "metadata": {},
   "source": [
    "# decision tree"
   ]
  },
  {
   "cell_type": "code",
   "execution_count": 85,
   "metadata": {},
   "outputs": [],
   "source": [
    "\n",
    "# 1. build tree\n",
    "# 2. check performance on train again \n",
    "# 3. post pruning \n",
    "# 4. calculate error \n",
    "# 5. use tree to classify test\n",
    "# 6. calculate error \n"
   ]
  },
  {
   "cell_type": "code",
   "execution_count": 82,
   "metadata": {},
   "outputs": [],
   "source": [
    "# import matplotlib.pyplot as plt\n",
    "# plt.plot(accuracy, depth, marker='o',label=\"accuracy\")\n",
    "# plt.title('MONK-1 Classify vs Accuracy')\n",
    "# plt.xlabel('Depth')\n",
    "# plt.ylabel('Accuracy')\n",
    "# plt.legend(loc='upper right',frameon=False)\n",
    "# plt.show()"
   ]
  }
 ],
 "metadata": {
  "kernelspec": {
   "display_name": "Python 3",
   "language": "python",
   "name": "python3"
  },
  "language_info": {
   "codemirror_mode": {
    "name": "ipython",
    "version": 3
   },
   "file_extension": ".py",
   "mimetype": "text/x-python",
   "name": "python",
   "nbconvert_exporter": "python",
   "pygments_lexer": "ipython3",
   "version": "3.7.4"
  }
 },
 "nbformat": 4,
 "nbformat_minor": 2
}